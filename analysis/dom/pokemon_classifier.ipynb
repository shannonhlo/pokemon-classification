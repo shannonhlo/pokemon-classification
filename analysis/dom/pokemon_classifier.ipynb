{
 "cells": [
  {
   "cell_type": "markdown",
   "metadata": {},
   "source": [
    "# 1. Load dependencies"
   ]
  },
  {
   "cell_type": "code",
   "execution_count": 190,
   "metadata": {},
   "outputs": [],
   "source": [
    "# Load dependencies\n",
    "import numpy as np\n",
    "import pandas as pd\n",
    "import seaborn as sns\n",
    "import seaborn as sns\n",
    "import numpy as np\n",
    "from matplotlib import pyplot\n",
    "import matplotlib.pyplot as plt\n",
    "import matplotlib.patches as mpatches\n",
    "from sklearn import metrics\n",
    "from sklearn.preprocessing import MinMaxScaler\n",
    "from sklearn.model_selection import train_test_split\n",
    "from sklearn.metrics import roc_curve\n",
    "from sklearn.metrics import roc_auc_score\n",
    "from sklearn.linear_model import LogisticRegression\n",
    "from imblearn.over_sampling import SMOTE \n",
    "from imblearn.under_sampling import RandomUnderSampler\n",
    "from imblearn.pipeline import Pipeline\n",
    "from sklearn.ensemble import RandomForestClassifier\n",
    "from sklearn.metrics import accuracy_score\n",
    "from sklearn.metrics import precision_score\n",
    "from sklearn.metrics import recall_score\n",
    "from sklearn.metrics import confusion_matrix\n",
    "from sklearn.base import clone \n",
    "from sklearn.model_selection import cross_val_score"
   ]
  },
  {
   "cell_type": "markdown",
   "metadata": {},
   "source": [
    "# 2. Get Data"
   ]
  },
  {
   "cell_type": "code",
   "execution_count": 191,
   "metadata": {},
   "outputs": [],
   "source": [
    "# Helper functions\n",
    "def clean_cols(cols):\n",
    "    cols_clean1 = cols.str.replace(' ', '_').str.replace('.', '')\n",
    "    cols_clean2 = cols_clean1.str.replace('.', '') \n",
    "    cols_clean3 = [col.lower() for col in cols_clean2]\n",
    "    return cols_clean3"
   ]
  },
  {
   "cell_type": "code",
   "execution_count": 192,
   "metadata": {},
   "outputs": [
    {
     "name": "stderr",
     "output_type": "stream",
     "text": [
      "<ipython-input-191-b65e14a138b3>:3: FutureWarning: The default value of regex will change from True to False in a future version. In addition, single character regular expressions will*not* be treated as literal strings when regex=True.\n",
      "  cols_clean1 = cols.str.replace(' ', '_').str.replace('.', '')\n",
      "<ipython-input-191-b65e14a138b3>:4: FutureWarning: The default value of regex will change from True to False in a future version. In addition, single character regular expressions will*not* be treated as literal strings when regex=True.\n",
      "  cols_clean2 = cols_clean1.str.replace('.', '')\n"
     ]
    },
    {
     "data": {
      "text/html": [
       "<div>\n",
       "<style scoped>\n",
       "    .dataframe tbody tr th:only-of-type {\n",
       "        vertical-align: middle;\n",
       "    }\n",
       "\n",
       "    .dataframe tbody tr th {\n",
       "        vertical-align: top;\n",
       "    }\n",
       "\n",
       "    .dataframe thead th {\n",
       "        text-align: right;\n",
       "    }\n",
       "</style>\n",
       "<table border=\"1\" class=\"dataframe\">\n",
       "  <thead>\n",
       "    <tr style=\"text-align: right;\">\n",
       "      <th></th>\n",
       "      <th>pokedex_no</th>\n",
       "      <th>name</th>\n",
       "      <th>type</th>\n",
       "      <th>other_type</th>\n",
       "      <th>hp</th>\n",
       "      <th>attack</th>\n",
       "      <th>defense</th>\n",
       "      <th>special_attack</th>\n",
       "      <th>special_defense</th>\n",
       "      <th>speed</th>\n",
       "      <th>total</th>\n",
       "      <th>generation</th>\n",
       "      <th>legendary</th>\n",
       "    </tr>\n",
       "  </thead>\n",
       "  <tbody>\n",
       "    <tr>\n",
       "      <th>0</th>\n",
       "      <td>1</td>\n",
       "      <td>bulbasaur</td>\n",
       "      <td>grass</td>\n",
       "      <td>poison</td>\n",
       "      <td>45</td>\n",
       "      <td>49</td>\n",
       "      <td>49</td>\n",
       "      <td>65</td>\n",
       "      <td>65</td>\n",
       "      <td>45</td>\n",
       "      <td>318</td>\n",
       "      <td>1</td>\n",
       "      <td>0</td>\n",
       "    </tr>\n",
       "    <tr>\n",
       "      <th>1</th>\n",
       "      <td>2</td>\n",
       "      <td>ivysaur</td>\n",
       "      <td>grass</td>\n",
       "      <td>poison</td>\n",
       "      <td>60</td>\n",
       "      <td>62</td>\n",
       "      <td>63</td>\n",
       "      <td>80</td>\n",
       "      <td>80</td>\n",
       "      <td>60</td>\n",
       "      <td>405</td>\n",
       "      <td>1</td>\n",
       "      <td>0</td>\n",
       "    </tr>\n",
       "    <tr>\n",
       "      <th>2</th>\n",
       "      <td>3</td>\n",
       "      <td>venusaur</td>\n",
       "      <td>grass</td>\n",
       "      <td>poison</td>\n",
       "      <td>80</td>\n",
       "      <td>82</td>\n",
       "      <td>83</td>\n",
       "      <td>100</td>\n",
       "      <td>100</td>\n",
       "      <td>80</td>\n",
       "      <td>525</td>\n",
       "      <td>1</td>\n",
       "      <td>0</td>\n",
       "    </tr>\n",
       "  </tbody>\n",
       "</table>\n",
       "</div>"
      ],
      "text/plain": [
       "   pokedex_no       name   type other_type  hp  attack  defense  \\\n",
       "0           1  bulbasaur  grass     poison  45      49       49   \n",
       "1           2    ivysaur  grass     poison  60      62       63   \n",
       "2           3   venusaur  grass     poison  80      82       83   \n",
       "\n",
       "   special_attack  special_defense  speed  total  generation  legendary  \n",
       "0              65               65     45    318           1          0  \n",
       "1              80               80     60    405           1          0  \n",
       "2             100              100     80    525           1          0  "
      ]
     },
     "execution_count": 192,
     "metadata": {},
     "output_type": "execute_result"
    }
   ],
   "source": [
    "# Get data from file path (downloaded from Kaggle)\n",
    "\n",
    "file_path = \"C:/Users/domen/github/pokemon_classification/datasets/Pokemon.csv\"\n",
    "df_raw = pd.read_csv(file_path)\n",
    "\n",
    "# clean columns\n",
    "df_raw.columns = clean_cols(df_raw.columns)\n",
    "\n",
    "# convert columns with string values to lower\n",
    "df_raw['type'] = df_raw.type.str.lower()\n",
    "df_raw['other_type'] = df_raw.other_type.str.lower()\n",
    "df_raw['name'] = df_raw.name.str.lower()\n",
    "\n",
    "\n",
    "df_raw.head(3)"
   ]
  },
  {
   "cell_type": "code",
   "execution_count": 193,
   "metadata": {},
   "outputs": [
    {
     "name": "stdout",
     "output_type": "stream",
     "text": [
      "-- pct\n",
      "0    0.878469\n",
      "1    0.121531\n",
      "Name: legendary, dtype: float64\n",
      "-- counts\n",
      "0    918\n",
      "1    127\n",
      "Name: legendary, dtype: int64\n"
     ]
    }
   ],
   "source": [
    "# View a summary of counts for the target variable (legendary)\n",
    "print(\"-- pct\")\n",
    "print(df_raw.legendary.value_counts(normalize=True))\n",
    "print(\"-- counts\")\n",
    "print(df_raw.legendary.value_counts())"
   ]
  },
  {
   "cell_type": "code",
   "execution_count": 194,
   "metadata": {},
   "outputs": [
    {
     "data": {
      "text/html": [
       "<div>\n",
       "<style scoped>\n",
       "    .dataframe tbody tr th:only-of-type {\n",
       "        vertical-align: middle;\n",
       "    }\n",
       "\n",
       "    .dataframe tbody tr th {\n",
       "        vertical-align: top;\n",
       "    }\n",
       "\n",
       "    .dataframe thead th {\n",
       "        text-align: right;\n",
       "    }\n",
       "</style>\n",
       "<table border=\"1\" class=\"dataframe\">\n",
       "  <thead>\n",
       "    <tr style=\"text-align: right;\">\n",
       "      <th></th>\n",
       "      <th>pokedex_no</th>\n",
       "      <th>name</th>\n",
       "      <th>type</th>\n",
       "      <th>other_type</th>\n",
       "      <th>hp</th>\n",
       "      <th>attack</th>\n",
       "      <th>defense</th>\n",
       "      <th>special_attack</th>\n",
       "      <th>special_defense</th>\n",
       "      <th>speed</th>\n",
       "      <th>total</th>\n",
       "      <th>generation</th>\n",
       "      <th>legendary</th>\n",
       "      <th>variant_ind</th>\n",
       "      <th>forme_ind</th>\n",
       "      <th>generation_nm</th>\n",
       "    </tr>\n",
       "  </thead>\n",
       "  <tbody>\n",
       "    <tr>\n",
       "      <th>1033</th>\n",
       "      <td>890</td>\n",
       "      <td>eternatus eternamax</td>\n",
       "      <td>poison</td>\n",
       "      <td>dragon</td>\n",
       "      <td>255</td>\n",
       "      <td>115</td>\n",
       "      <td>250</td>\n",
       "      <td>125</td>\n",
       "      <td>250</td>\n",
       "      <td>130</td>\n",
       "      <td>1125</td>\n",
       "      <td>8</td>\n",
       "      <td>1</td>\n",
       "      <td>1</td>\n",
       "      <td>0</td>\n",
       "      <td>gen_8</td>\n",
       "    </tr>\n",
       "    <tr>\n",
       "      <th>464</th>\n",
       "      <td>384</td>\n",
       "      <td>mega rayquaza</td>\n",
       "      <td>dragon</td>\n",
       "      <td>flying</td>\n",
       "      <td>105</td>\n",
       "      <td>180</td>\n",
       "      <td>100</td>\n",
       "      <td>180</td>\n",
       "      <td>100</td>\n",
       "      <td>115</td>\n",
       "      <td>780</td>\n",
       "      <td>3</td>\n",
       "      <td>1</td>\n",
       "      <td>1</td>\n",
       "      <td>0</td>\n",
       "      <td>gen_3</td>\n",
       "    </tr>\n",
       "    <tr>\n",
       "      <th>195</th>\n",
       "      <td>150</td>\n",
       "      <td>mega mewtwo y</td>\n",
       "      <td>psychic</td>\n",
       "      <td>NaN</td>\n",
       "      <td>106</td>\n",
       "      <td>150</td>\n",
       "      <td>70</td>\n",
       "      <td>194</td>\n",
       "      <td>120</td>\n",
       "      <td>140</td>\n",
       "      <td>780</td>\n",
       "      <td>1</td>\n",
       "      <td>1</td>\n",
       "      <td>1</td>\n",
       "      <td>0</td>\n",
       "      <td>gen_1</td>\n",
       "    </tr>\n",
       "  </tbody>\n",
       "</table>\n",
       "</div>"
      ],
      "text/plain": [
       "      pokedex_no                 name     type other_type   hp  attack  \\\n",
       "1033         890  eternatus eternamax   poison     dragon  255     115   \n",
       "464          384        mega rayquaza   dragon     flying  105     180   \n",
       "195          150        mega mewtwo y  psychic        NaN  106     150   \n",
       "\n",
       "      defense  special_attack  special_defense  speed  total  generation  \\\n",
       "1033      250             125              250    130   1125           8   \n",
       "464       100             180              100    115    780           3   \n",
       "195        70             194              120    140    780           1   \n",
       "\n",
       "      legendary  variant_ind  forme_ind generation_nm  \n",
       "1033          1            1          0         gen_8  \n",
       "464           1            1          0         gen_3  \n",
       "195           1            1          0         gen_1  "
      ]
     },
     "execution_count": 194,
     "metadata": {},
     "output_type": "execute_result"
    }
   ],
   "source": [
    "# Feature engineering\n",
    "\n",
    "df_raw[df_raw.legendary==True].sort_values(by = 'total', ascending = False).head()\n",
    "#df.sort_values(by = 'total', ascending = False).head(100)\n",
    "\n",
    "# create a feature for all \"variant form pokemon\" (mega, ultra, primal, etc.)\n",
    "df_raw['variant_ind'] = np.where(df_raw.name.str.startswith((\"mega \", \"ultra \", \"primal \")), 1,\n",
    "                             np.where(df_raw.name.str.endswith((\"eternamax\", \"10% forme\", \"50% forme\")), 1, 0))\n",
    "\n",
    "# create a feature for all \"forme\" pokemon\n",
    "df_raw['forme_ind'] = np.where(df_raw.name.str.endswith((\"forme\")), 1, 0)\n",
    "\n",
    "# create a string version with a prefix for generation num\n",
    "df_raw[['generation_nm']] = 'gen_' + df_raw['generation'].astype(str)\n",
    "\n",
    "# see some of those\n",
    "df_raw.sort_values(by = 'total', ascending = False).head(3)\n",
    "#df_raw[df_raw.name.str.contains('forme')].head(3)"
   ]
  },
  {
   "cell_type": "markdown",
   "metadata": {},
   "source": [
    "# 3. Data Preparation"
   ]
  },
  {
   "cell_type": "code",
   "execution_count": 195,
   "metadata": {},
   "outputs": [
    {
     "data": {
      "text/html": [
       "<div>\n",
       "<style scoped>\n",
       "    .dataframe tbody tr th:only-of-type {\n",
       "        vertical-align: middle;\n",
       "    }\n",
       "\n",
       "    .dataframe tbody tr th {\n",
       "        vertical-align: top;\n",
       "    }\n",
       "\n",
       "    .dataframe thead th {\n",
       "        text-align: right;\n",
       "    }\n",
       "</style>\n",
       "<table border=\"1\" class=\"dataframe\">\n",
       "  <thead>\n",
       "    <tr style=\"text-align: right;\">\n",
       "      <th></th>\n",
       "      <th>hp</th>\n",
       "      <th>attack</th>\n",
       "      <th>defense</th>\n",
       "      <th>special_attack</th>\n",
       "      <th>special_defense</th>\n",
       "      <th>speed</th>\n",
       "      <th>total</th>\n",
       "      <th>legendary</th>\n",
       "      <th>variant_ind</th>\n",
       "      <th>type1_dark</th>\n",
       "      <th>...</th>\n",
       "      <th>type2_ghost</th>\n",
       "      <th>type2_grass</th>\n",
       "      <th>type2_ground</th>\n",
       "      <th>type2_ice</th>\n",
       "      <th>type2_normal</th>\n",
       "      <th>type2_poison</th>\n",
       "      <th>type2_psychic</th>\n",
       "      <th>type2_rock</th>\n",
       "      <th>type2_steel</th>\n",
       "      <th>type2_water</th>\n",
       "    </tr>\n",
       "  </thead>\n",
       "  <tbody>\n",
       "    <tr>\n",
       "      <th>0</th>\n",
       "      <td>0.173228</td>\n",
       "      <td>0.237838</td>\n",
       "      <td>0.179592</td>\n",
       "      <td>0.298913</td>\n",
       "      <td>0.195652</td>\n",
       "      <td>0.205128</td>\n",
       "      <td>0.150526</td>\n",
       "      <td>0</td>\n",
       "      <td>0</td>\n",
       "      <td>0</td>\n",
       "      <td>...</td>\n",
       "      <td>0</td>\n",
       "      <td>0</td>\n",
       "      <td>0</td>\n",
       "      <td>0</td>\n",
       "      <td>0</td>\n",
       "      <td>1</td>\n",
       "      <td>0</td>\n",
       "      <td>0</td>\n",
       "      <td>0</td>\n",
       "      <td>0</td>\n",
       "    </tr>\n",
       "    <tr>\n",
       "      <th>1</th>\n",
       "      <td>0.232283</td>\n",
       "      <td>0.308108</td>\n",
       "      <td>0.236735</td>\n",
       "      <td>0.380435</td>\n",
       "      <td>0.260870</td>\n",
       "      <td>0.282051</td>\n",
       "      <td>0.242105</td>\n",
       "      <td>0</td>\n",
       "      <td>0</td>\n",
       "      <td>0</td>\n",
       "      <td>...</td>\n",
       "      <td>0</td>\n",
       "      <td>0</td>\n",
       "      <td>0</td>\n",
       "      <td>0</td>\n",
       "      <td>0</td>\n",
       "      <td>1</td>\n",
       "      <td>0</td>\n",
       "      <td>0</td>\n",
       "      <td>0</td>\n",
       "      <td>0</td>\n",
       "    </tr>\n",
       "    <tr>\n",
       "      <th>2</th>\n",
       "      <td>0.311024</td>\n",
       "      <td>0.416216</td>\n",
       "      <td>0.318367</td>\n",
       "      <td>0.489130</td>\n",
       "      <td>0.347826</td>\n",
       "      <td>0.384615</td>\n",
       "      <td>0.368421</td>\n",
       "      <td>0</td>\n",
       "      <td>0</td>\n",
       "      <td>0</td>\n",
       "      <td>...</td>\n",
       "      <td>0</td>\n",
       "      <td>0</td>\n",
       "      <td>0</td>\n",
       "      <td>0</td>\n",
       "      <td>0</td>\n",
       "      <td>1</td>\n",
       "      <td>0</td>\n",
       "      <td>0</td>\n",
       "      <td>0</td>\n",
       "      <td>0</td>\n",
       "    </tr>\n",
       "    <tr>\n",
       "      <th>3</th>\n",
       "      <td>0.311024</td>\n",
       "      <td>0.513514</td>\n",
       "      <td>0.481633</td>\n",
       "      <td>0.608696</td>\n",
       "      <td>0.434783</td>\n",
       "      <td>0.384615</td>\n",
       "      <td>0.473684</td>\n",
       "      <td>0</td>\n",
       "      <td>1</td>\n",
       "      <td>0</td>\n",
       "      <td>...</td>\n",
       "      <td>0</td>\n",
       "      <td>0</td>\n",
       "      <td>0</td>\n",
       "      <td>0</td>\n",
       "      <td>0</td>\n",
       "      <td>1</td>\n",
       "      <td>0</td>\n",
       "      <td>0</td>\n",
       "      <td>0</td>\n",
       "      <td>0</td>\n",
       "    </tr>\n",
       "  </tbody>\n",
       "</table>\n",
       "<p>4 rows × 43 columns</p>\n",
       "</div>"
      ],
      "text/plain": [
       "         hp    attack   defense  special_attack  special_defense     speed  \\\n",
       "0  0.173228  0.237838  0.179592        0.298913         0.195652  0.205128   \n",
       "1  0.232283  0.308108  0.236735        0.380435         0.260870  0.282051   \n",
       "2  0.311024  0.416216  0.318367        0.489130         0.347826  0.384615   \n",
       "3  0.311024  0.513514  0.481633        0.608696         0.434783  0.384615   \n",
       "\n",
       "      total  legendary  variant_ind  type1_dark  ...  type2_ghost  \\\n",
       "0  0.150526          0            0           0  ...            0   \n",
       "1  0.242105          0            0           0  ...            0   \n",
       "2  0.368421          0            0           0  ...            0   \n",
       "3  0.473684          0            1           0  ...            0   \n",
       "\n",
       "   type2_grass  type2_ground  type2_ice  type2_normal  type2_poison  \\\n",
       "0            0             0          0             0             1   \n",
       "1            0             0          0             0             1   \n",
       "2            0             0          0             0             1   \n",
       "3            0             0          0             0             1   \n",
       "\n",
       "   type2_psychic  type2_rock  type2_steel  type2_water  \n",
       "0              0           0            0            0  \n",
       "1              0           0            0            0  \n",
       "2              0           0            0            0  \n",
       "3              0           0            0            0  \n",
       "\n",
       "[4 rows x 43 columns]"
      ]
     },
     "execution_count": 195,
     "metadata": {},
     "output_type": "execute_result"
    }
   ],
   "source": [
    "# Create dataframe for analysis\n",
    "df = df_raw.copy()\n",
    "\n",
    "# Create dummy variables\n",
    "dummy_type1 = pd.get_dummies(df['type'], prefix='type1', drop_first=True)\n",
    "dummy_type2 = pd.get_dummies(df['other_type'], prefix='type2', drop_first=True)\n",
    "\n",
    "# Variables to drop\n",
    "to_drop = ['pokedex_no', 'forme_ind', 'name', 'type', 'other_type', 'generation', 'generation_nm']\n",
    "df.drop(to_drop, axis=1, inplace=True)\n",
    "\n",
    "# Merge into a single data frame\n",
    "merged = pd.concat([df, dummy_type1, dummy_type2], axis=1)\n",
    "\n",
    "# Scale integer columns that have values greater than 1\n",
    "#merged[[\"hp1\", \"attack1\"]] = mms.fit_transform(merged[[\"hp\", \"attack\"]]) # example\n",
    "# cols_to_scale = [col for col in df.columns if df[col].max() > 1] # logic that should work but doesnt\n",
    "\n",
    "cols_to_scale = [\"hp\", \"attack\", \"defense\", \"special_attack\", \"special_defense\", \"speed\", \"total\"]\n",
    "mms = MinMaxScaler()\n",
    "scaled = mms.fit_transform(merged[cols_to_scale])\n",
    "scaled = pd.DataFrame(scaled, columns=cols_to_scale)\n",
    "\n",
    "# Replace original columns with scaled ones\n",
    "for col in scaled:\n",
    "    merged[col] = scaled[col]\n",
    "    \n",
    "merged.head(4)"
   ]
  },
  {
   "cell_type": "code",
   "execution_count": 196,
   "metadata": {},
   "outputs": [
    {
     "name": "stdout",
     "output_type": "stream",
     "text": [
      "Shape of X before SMOTE: (1045, 42)\n",
      "Shape of X after SMOTE: (1836, 42)\n",
      "\n",
      "Balance of positive and negative classes (%):\n"
     ]
    },
    {
     "data": {
      "text/plain": [
       "0    918\n",
       "1    918\n",
       "Name: legendary, dtype: int64"
      ]
     },
     "execution_count": 196,
     "metadata": {},
     "output_type": "execute_result"
    }
   ],
   "source": [
    "# Setup train/test datasets (NON-SMOTE & SMOTE)\n",
    "\n",
    "# drop target from train, keep in test\n",
    "X = merged.drop('legendary', axis=1)\n",
    "y = merged['legendary']\n",
    "\n",
    "# get SMOTE data ready\n",
    "sm = SMOTE(random_state = 42)\n",
    "X_sm, y_sm = sm.fit_resample(X, y)\n",
    "\n",
    "# print out the shape of the data with and without SMOTE, then show the number of observations\n",
    "print(f'''Shape of X before SMOTE: {X.shape}\n",
    "Shape of X after SMOTE: {X_sm.shape}''')\n",
    "\n",
    "print('\\nBalance of positive and negative classes (%):')\n",
    "y_sm.value_counts(normalize=True) * 100\n",
    "y_sm.value_counts()"
   ]
  },
  {
   "cell_type": "markdown",
   "metadata": {},
   "source": [
    "# 4. Model Fit & Evaluation"
   ]
  },
  {
   "cell_type": "markdown",
   "metadata": {},
   "source": [
    "## 4.1 Non-SMOTE version\n",
    "* **Model 1**: RF model\n",
    "* **Model 2**: Logistic Regression model\n",
    "* **Feature importance**: a quick look\n",
    "* **Evaluation**: ROC-AUC, Precision & Recall"
   ]
  },
  {
   "cell_type": "code",
   "execution_count": 197,
   "metadata": {},
   "outputs": [
    {
     "data": {
      "image/png": "[encoded data removed]",
      "text/plain": [
       "<Figure size 432x288 with 1 Axes>"
      ]
     },
     "metadata": {
      "needs_background": "light"
     },
     "output_type": "display_data"
    },
    {
     "data": {
      "image/png": "[encoded data removed]",
      "text/plain": [
       "<Figure size 432x288 with 1 Axes>"
      ]
     },
     "metadata": {
      "needs_background": "light"
     },
     "output_type": "display_data"
    }
   ],
   "source": [
    "# data prep -- \n",
    "\n",
    "# NON-SMOTE: split data into random train and test subsets (75/25 split)\n",
    "X_train, X_test, y_train, y_test = train_test_split(\n",
    "                                        X, \n",
    "                                        y, \n",
    "                                        test_size = 0.25, \n",
    "                                        random_state = 37\n",
    "                                    )\n",
    "\n",
    "# model fitting --\n",
    "\n",
    "# fit a random forest (rf) classifier\n",
    "rf_model = RandomForestClassifier(random_state=42)\n",
    "rf_model.fit(X_train, y_train)\n",
    "\n",
    "# fit a logistic regression (lr)\n",
    "lr_model = LogisticRegression(solver='lbfgs')\n",
    "lr_model.fit(X_train, y_train)\n",
    "\n",
    "# feature importance --\n",
    "\n",
    "# top 10 feature importance for each model\n",
    "rf_importance = pd.Series(rf_model.feature_importances_, index=X.columns, name = 'rf_features')\n",
    "lr_importance = pd.Series(lr_model.coef_[0], index=X.columns, name = 'lr_features')\n",
    "\n",
    "# visualize top 10 in RF model\n",
    "rf_importance.nlargest(15).sort_values(ascending = True).plot(kind='barh')\n",
    "plt.title(\"Top 10 important features (RF model)\")\n",
    "plt.show()\n",
    "\n",
    "# visualize top 10 positive, bottom 10 negative in LR model\n",
    "lr_importance.nlargest(10).append(lr_importance.nsmallest(10)).sort_values(ascending = True).plot(kind='barh')\n",
    "plt.title(\"Top 10 & Bottom 10 important features (LR model)\")\n",
    "plt.show()"
   ]
  },
  {
   "cell_type": "code",
   "execution_count": 198,
   "metadata": {},
   "outputs": [
    {
     "name": "stdout",
     "output_type": "stream",
     "text": [
      "RF: ROC AUC = 0.947\n",
      "LR: ROC AUC = 0.944\n",
      "\n",
      "RF: Accuracy = 0.97\n",
      "LR: Accuracy = 0.91\n",
      "\n",
      "RF: Precision = 0.96\n",
      "LR: Precision = 0.92\n",
      "\n",
      "RF: Recall = 0.79\n",
      "LR: Recall = 0.35\n",
      "\n"
     ]
    }
   ],
   "source": [
    "# predictions --\n",
    "\n",
    "# get prediction for rf model\n",
    "rf_preds = rf_model.predict(X_test)\n",
    "rf_preds2 = rf_model.predict_proba(X_test)\n",
    "rf_preds2 = rf_preds2[:, 1] # keep probabilities for the positive outcome only\n",
    "\n",
    "# get prediction for lr model\n",
    "lr_preds = lr_model.predict(X_test)\n",
    "lr_preds2 = lr_model.predict_proba(X_test)\n",
    "lr_preds2 = lr_preds2[:, 1] # keep probabilities for the positive outcome only\n",
    "\n",
    "# model evaluation --\n",
    "\n",
    "# first, generate a no skill prediction (majority class... base rate = 50%)\n",
    "ns_probs = [0 for _ in range(len(y_test))]\n",
    "\n",
    "# area under curve (AUC)\n",
    "ns_auc = roc_auc_score(y_test, ns_probs)\n",
    "rf_auc = roc_auc_score(y_test, rf_preds2)\n",
    "lr_auc = roc_auc_score(y_test, lr_preds2)\n",
    "\n",
    "# precision & recall\n",
    "rf_accuracy = accuracy_score(y_test, rf_preds)\n",
    "rf_recall = recall_score(y_test, rf_preds)\n",
    "rf_precision = precision_score(y_test, rf_preds)\n",
    "lr_accuracy = accuracy_score(y_test, lr_preds)\n",
    "lr_recall = recall_score(y_test, lr_preds)\n",
    "lr_precision = precision_score(y_test, lr_preds)\n",
    "\n",
    "# print results to console\n",
    "#print('Baseline: ROC AUC = %.3f' % (ns_auc))\n",
    "print('RF: ROC AUC = %.3f' % (rf_auc))\n",
    "print('LR: ROC AUC = %.3f' % (lr_auc))\n",
    "\n",
    "print(f'\\nRF: Accuracy = {rf_accuracy:.2f}\\nLR: Accuracy = {lr_accuracy:.2f}')\n",
    "print(f'\\nRF: Precision = {rf_precision:.2f}\\nLR: Precision = {lr_precision:.2f}')\n",
    "print(f'\\nRF: Recall = {rf_recall:.2f}\\nLR: Recall = {lr_recall:.2f}\\n')\n",
    "\n",
    "\n",
    "# plot the RF confusion matrix\n",
    "#rf_cm = confusion_matrix(y_test, rf_preds)\n",
    "#plt.figure(figsize=(8, 6))\n",
    "#plt.title('RF: Confusion Matrix (with SMOTE)', size=16)\n",
    "#sns.heatmap(rf_cm, annot=True, cmap='Blues')"
   ]
  },
  {
   "cell_type": "markdown",
   "metadata": {},
   "source": [
    "## 4.2 SMOTE version\n",
    "* **Model 1**: RF model\n",
    "* **Model 2**: Logistic Regression model\n",
    "* **Feature importance**: a quick look\n",
    "* **Evaluation**: ROC-AUC, Precision & Recall"
   ]
  },
  {
   "cell_type": "code",
   "execution_count": 202,
   "metadata": {},
   "outputs": [
    {
     "data": {
      "image/png": "[encoded data removed]",
      "text/plain": [
       "<Figure size 432x288 with 1 Axes>"
      ]
     },
     "metadata": {
      "needs_background": "light"
     },
     "output_type": "display_data"
    },
    {
     "data": {
      "image/png": "[encoded data removed]",
      "text/plain": [
       "<Figure size 432x288 with 1 Axes>"
      ]
     },
     "metadata": {
      "needs_background": "light"
     },
     "output_type": "display_data"
    }
   ],
   "source": [
    "# data prep --\n",
    "\n",
    "# SMOTE: apply SMOTE then split data into random train and test subsets (75/25 split)\n",
    "sm = SMOTE(random_state = 42)\n",
    "X_sm, y_sm = sm.fit_resample(X, y)\n",
    "\n",
    "X_train_sm, X_test_sm, y_train_sm, y_test_sm = train_test_split(\n",
    "                                        X_sm, \n",
    "                                        y_sm, \n",
    "                                        test_size = 0.25, \n",
    "                                        random_state = 42\n",
    "                                    )\n",
    "\n",
    "# model fitting --\n",
    "\n",
    "# fit a random forest (rf) classifier\n",
    "rf_sm_model = RandomForestClassifier(random_state = 42)\n",
    "rf_sm_model.fit(X_train_sm, y_train_sm)\n",
    "\n",
    "# fit a logistic regression (lr)\n",
    "lr_sm_model = LogisticRegression(solver='lbfgs')\n",
    "lr_sm_model.fit(X_train_sm, y_train_sm)\n",
    "\n",
    "# feature importance --\n",
    "\n",
    "# top 10 feature importance for each model\n",
    "rf_sm_importance = pd.Series(rf_sm_model.feature_importances_, index=X_sm.columns, name = 'rf_features')\n",
    "lr_sm_importance = pd.Series(lr_sm_model.coef_[0], index=X_sm.columns, name = 'lr_features')\n",
    "\n",
    "# visualize top 10 in RF model\n",
    "rf_sm_importance.nlargest(15).sort_values(ascending = True).plot(kind='barh')\n",
    "plt.title(\"Top 10 important features (RF model)\")\n",
    "plt.show()\n",
    "\n",
    "# visualize top 10 positive, bottom 10 negative in LR model\n",
    "lr_sm_importance.nlargest(10).append(lr_sm_importance.nsmallest(10)).sort_values(ascending = True).plot(kind='barh')\n",
    "plt.title(\"Top 10 & Bottom 10 important features (LR model)\")\n",
    "plt.show()"
   ]
  },
  {
   "cell_type": "code",
   "execution_count": 203,
   "metadata": {},
   "outputs": [
    {
     "name": "stdout",
     "output_type": "stream",
     "text": [
      "RF: ROC AUC = 0.996\n",
      "LR: ROC AUC = 0.976\n",
      "\n",
      "RF: Accuracy = 0.98\n",
      "LR: Accuracy = 0.93\n",
      "\n",
      "RF: Precision = 0.98\n",
      "LR: Precision = 0.95\n",
      "\n",
      "RF: Recall = 0.97\n",
      "LR: Recall = 0.91\n",
      "\n"
     ]
    },
    {
     "data": {
      "text/plain": [
       "Text(0.5, 1.0, 'RF: ROC-AUC Curve (with SMOTE)')"
      ]
     },
     "execution_count": 203,
     "metadata": {},
     "output_type": "execute_result"
    },
    {
     "data": {
      "image/png": "[encoded data removed]",
      "text/plain": [
       "<Figure size 576x288 with 2 Axes>"
      ]
     },
     "metadata": {
      "needs_background": "light"
     },
     "output_type": "display_data"
    },
    {
     "data": {
      "image/png": "[encoded data removed]",
      "text/plain": [
       "<Figure size 432x288 with 1 Axes>"
      ]
     },
     "metadata": {
      "needs_background": "light"
     },
     "output_type": "display_data"
    }
   ],
   "source": [
    "# predictions --\n",
    "\n",
    "# get prediction for rf model\n",
    "rf_preds = rf_sm_model.predict(X_test_sm)\n",
    "rf_preds2 = rf_sm_model.predict_proba(X_test_sm)\n",
    "rf_preds2 = rf_preds2[:, 1] # keep probabilities for the positive outcome only\n",
    "\n",
    "# get prediction for lr model\n",
    "lr_preds = lr_sm_model.predict(X_test_sm)\n",
    "lr_preds2 = lr_sm_model.predict_proba(X_test_sm)\n",
    "lr_preds2 = lr_preds2[:, 1] # keep probabilities for the positive outcome only\n",
    "\n",
    "# model evaluation --\n",
    "\n",
    "# first, generate a no skill prediction (majority class... base rate = 50%)\n",
    "ns_probs = [0 for _ in range(len(y_test))]\n",
    "\n",
    "# area under curve (AUC)\n",
    "ns_auc = roc_auc_score(y_test_sm, ns_probs)\n",
    "rf_auc = roc_auc_score(y_test_sm, rf_preds2)\n",
    "lr_auc = roc_auc_score(y_test_sm, lr_preds2)\n",
    "\n",
    "# accuracy, precision & recall\n",
    "rf_accuracy = accuracy_score(y_test_sm, rf_preds)\n",
    "rf_recall = recall_score(y_test_sm, rf_preds)\n",
    "rf_precision = precision_score(y_test_sm, rf_preds)\n",
    "lr_accuracy = accuracy_score(y_test_sm, lr_preds)\n",
    "lr_recall = recall_score(y_test_sm, lr_preds)\n",
    "lr_precision = precision_score(y_test_sm, lr_preds)\n",
    "\n",
    "# print results to console\n",
    "#print('Baseline: ROC AUC = %.3f' % (ns_auc))\n",
    "print('RF: ROC AUC = %.3f' % (rf_auc))\n",
    "print('LR: ROC AUC = %.3f' % (lr_auc))\n",
    "\n",
    "print(f'\\nRF: Accuracy = {rf_accuracy:.2f}\\nLR: Accuracy = {lr_accuracy:.2f}')\n",
    "print(f'\\nRF: Precision = {rf_precision:.2f}\\nLR: Precision = {lr_precision:.2f}')\n",
    "print(f'\\nRF: Recall = {rf_recall:.2f}\\nLR: Recall = {lr_recall:.2f}\\n')\n",
    "\n",
    "# plot the RF confusion matrix\n",
    "rf_cm = confusion_matrix(y_test_sm, rf_preds)\n",
    "plt.figure(figsize=(8, 4))\n",
    "plt.title('RF: Confusion Matrix (with SMOTE)', size=16)\n",
    "sns.heatmap(rf_cm, annot=True, cmap='Blues')\n",
    "\n",
    "# plot the AUC-ROC curve\n",
    "metrics.plot_roc_curve(rf_sm_model, X_test_sm, y_test_sm) \n",
    "plt.title('RF: ROC-AUC Curve (with SMOTE)', size=16)"
   ]
  },
  {
   "cell_type": "code",
   "execution_count": 204,
   "metadata": {},
   "outputs": [
    {
     "name": "stdout",
     "output_type": "stream",
     "text": [
      "RF: ROC AUC = 0.99\n",
      "RF: Accuracy = 0.97\n",
      "RF: Precision = 0.96\n",
      "RF: Recall = 0.97\n",
      "RF: F1 Score = 0.97\n"
     ]
    }
   ],
   "source": [
    "# Trying out cross-validation for model evaluation here (RF model only)\n",
    "\n",
    "# get AUC, Recall & Accuracy\n",
    "rf_sm_cv_auc = cross_val_score(rf_sm_model, X_sm, y_sm, cv=10, scoring='roc_auc')\n",
    "rf_sm_cv_precision = cross_val_score(rf_sm_model, X_sm, y_sm, cv=10, scoring='precision')\n",
    "rf_sm_cv_recall = cross_val_score(rf_sm_model, X_sm, y_sm, cv=10, scoring='recall')\n",
    "rf_sm_cv_accuracy = cross_val_score(rf_sm_model, X_sm, y_sm, cv=10, scoring='accuracy')\n",
    "rf_sm_cv_f1score = cross_val_score(rf_sm_model, X_sm, y_sm, cv=10, scoring='f1')\n",
    "\n",
    "# print results\n",
    "print(f'RF: ROC AUC = {np.mean(rf_sm_cv_auc):.2f}')\n",
    "print(f'RF: Accuracy = {np.mean(rf_sm_cv_accuracy):.2f}')\n",
    "print(f'RF: Precision = {np.mean(rf_sm_cv_precision):.2f}')\n",
    "print(f'RF: Recall = {np.mean(rf_sm_cv_recall):.2f}')\n",
    "print(f'RF: F1 Score = {np.mean(rf_sm_cv_f1score):.2f}')"
   ]
  }
 ],
 "metadata": {
  "interpreter": {
   "hash": "07a70a5077e9c9feae5d08fa41fc44d95abc22f10394969018e5e0f4ca96aa5b"
  },
  "kernelspec": {
   "display_name": "Python 3.9.1 64-bit (system)",
   "name": "python3"
  },
  "language_info": {
   "codemirror_mode": {
    "name": "ipython",
    "version": 3
   },
   "file_extension": ".py",
   "mimetype": "text/x-python",
   "name": "python",
   "nbconvert_exporter": "python",
   "pygments_lexer": "ipython3",
   "version": "3.9.1"
  },
  "orig_nbformat": 4
 },
 "nbformat": 4,
 "nbformat_minor": 2
}
