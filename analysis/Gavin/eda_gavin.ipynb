{
 "cells": [
  {
   "cell_type": "code",
   "execution_count": 108,
   "metadata": {},
   "outputs": [],
   "source": [
    "import itertools\n",
    "import matplotlib.pyplot as plt\n",
    "import numpy as np\n",
    "import pandas as pd\n",
    "import os\n",
    "import seaborn as sns\n",
    "from sklearn.model_selection import train_test_split\n",
    "from sklearn.linear_model import LogisticRegression\n",
    "from sklearn.metrics import confusion_matrix"
   ]
  },
  {
   "cell_type": "code",
   "execution_count": 2,
   "metadata": {},
   "outputs": [
    {
     "data": {
      "text/plain": [
       "'/Users/t0rracat/Documents/pokemon_classification/analysis/Gavin'"
      ]
     },
     "execution_count": 2,
     "metadata": {},
     "output_type": "execute_result"
    }
   ],
   "source": [
    "os.getcwd()"
   ]
  },
  {
   "cell_type": "code",
   "execution_count": 5,
   "metadata": {},
   "outputs": [],
   "source": [
    "def clean_cols(cols):\n",
    "    return [col.lower() for col in cols]"
   ]
  },
  {
   "cell_type": "code",
   "execution_count": 6,
   "metadata": {},
   "outputs": [],
   "source": [
    "file_path = \"/Users/t0rracat/Documents/pokemon_classification/datasets/Pokemon.csv\"\n",
    "#file_path = \"C:/Users/domen/github/pokemon_classification/datasets/Pokemon.csv\"\n",
    "\n",
    "df = pd.read_csv(file_path)\n",
    "df.columns = clean_cols(df.columns)"
   ]
  },
  {
   "cell_type": "code",
   "execution_count": 7,
   "metadata": {},
   "outputs": [
    {
     "data": {
      "text/html": [
       "<div>\n",
       "<style scoped>\n",
       "    .dataframe tbody tr th:only-of-type {\n",
       "        vertical-align: middle;\n",
       "    }\n",
       "\n",
       "    .dataframe tbody tr th {\n",
       "        vertical-align: top;\n",
       "    }\n",
       "\n",
       "    .dataframe thead th {\n",
       "        text-align: right;\n",
       "    }\n",
       "</style>\n",
       "<table border=\"1\" class=\"dataframe\">\n",
       "  <thead>\n",
       "    <tr style=\"text-align: right;\">\n",
       "      <th></th>\n",
       "      <th>pokedex no.</th>\n",
       "      <th>name</th>\n",
       "      <th>type</th>\n",
       "      <th>other type</th>\n",
       "      <th>hp</th>\n",
       "      <th>attack</th>\n",
       "      <th>defense</th>\n",
       "      <th>special attack</th>\n",
       "      <th>special defense</th>\n",
       "      <th>speed</th>\n",
       "      <th>total</th>\n",
       "      <th>generation</th>\n",
       "      <th>legendary</th>\n",
       "    </tr>\n",
       "  </thead>\n",
       "  <tbody>\n",
       "    <tr>\n",
       "      <th>0</th>\n",
       "      <td>1</td>\n",
       "      <td>Bulbasaur</td>\n",
       "      <td>Grass</td>\n",
       "      <td>Poison</td>\n",
       "      <td>45</td>\n",
       "      <td>49</td>\n",
       "      <td>49</td>\n",
       "      <td>65</td>\n",
       "      <td>65</td>\n",
       "      <td>45</td>\n",
       "      <td>318</td>\n",
       "      <td>1</td>\n",
       "      <td>0</td>\n",
       "    </tr>\n",
       "    <tr>\n",
       "      <th>1</th>\n",
       "      <td>2</td>\n",
       "      <td>Ivysaur</td>\n",
       "      <td>Grass</td>\n",
       "      <td>Poison</td>\n",
       "      <td>60</td>\n",
       "      <td>62</td>\n",
       "      <td>63</td>\n",
       "      <td>80</td>\n",
       "      <td>80</td>\n",
       "      <td>60</td>\n",
       "      <td>405</td>\n",
       "      <td>1</td>\n",
       "      <td>0</td>\n",
       "    </tr>\n",
       "    <tr>\n",
       "      <th>2</th>\n",
       "      <td>3</td>\n",
       "      <td>Venusaur</td>\n",
       "      <td>Grass</td>\n",
       "      <td>Poison</td>\n",
       "      <td>80</td>\n",
       "      <td>82</td>\n",
       "      <td>83</td>\n",
       "      <td>100</td>\n",
       "      <td>100</td>\n",
       "      <td>80</td>\n",
       "      <td>525</td>\n",
       "      <td>1</td>\n",
       "      <td>0</td>\n",
       "    </tr>\n",
       "    <tr>\n",
       "      <th>3</th>\n",
       "      <td>3</td>\n",
       "      <td>Mega Venusaur</td>\n",
       "      <td>Grass</td>\n",
       "      <td>Poison</td>\n",
       "      <td>80</td>\n",
       "      <td>100</td>\n",
       "      <td>123</td>\n",
       "      <td>122</td>\n",
       "      <td>120</td>\n",
       "      <td>80</td>\n",
       "      <td>625</td>\n",
       "      <td>1</td>\n",
       "      <td>0</td>\n",
       "    </tr>\n",
       "  </tbody>\n",
       "</table>\n",
       "</div>"
      ],
      "text/plain": [
       "   pokedex no.           name   type other type  hp  attack  defense  \\\n",
       "0            1      Bulbasaur  Grass     Poison  45      49       49   \n",
       "1            2        Ivysaur  Grass     Poison  60      62       63   \n",
       "2            3       Venusaur  Grass     Poison  80      82       83   \n",
       "3            3  Mega Venusaur  Grass     Poison  80     100      123   \n",
       "\n",
       "   special attack  special defense  speed  total  generation  legendary  \n",
       "0              65               65     45    318           1          0  \n",
       "1              80               80     60    405           1          0  \n",
       "2             100              100     80    525           1          0  \n",
       "3             122              120     80    625           1          0  "
      ]
     },
     "execution_count": 7,
     "metadata": {},
     "output_type": "execute_result"
    }
   ],
   "source": [
    "df.head(4)"
   ]
  },
  {
   "cell_type": "code",
   "execution_count": 8,
   "metadata": {},
   "outputs": [
    {
     "name": "stdout",
     "output_type": "stream",
     "text": [
      "<class 'pandas.core.frame.DataFrame'>\n",
      "RangeIndex: 1045 entries, 0 to 1044\n",
      "Data columns (total 13 columns):\n",
      " #   Column           Non-Null Count  Dtype \n",
      "---  ------           --------------  ----- \n",
      " 0   pokedex no.      1045 non-null   int64 \n",
      " 1   name             1045 non-null   object\n",
      " 2   type             1045 non-null   object\n",
      " 3   other type       553 non-null    object\n",
      " 4   hp               1045 non-null   int64 \n",
      " 5   attack           1045 non-null   int64 \n",
      " 6   defense          1045 non-null   int64 \n",
      " 7   special attack   1045 non-null   int64 \n",
      " 8   special defense  1045 non-null   int64 \n",
      " 9   speed            1045 non-null   int64 \n",
      " 10  total            1045 non-null   int64 \n",
      " 11  generation       1045 non-null   int64 \n",
      " 12  legendary        1045 non-null   int64 \n",
      "dtypes: int64(10), object(3)\n",
      "memory usage: 106.3+ KB\n"
     ]
    }
   ],
   "source": [
    "df.info()"
   ]
  },
  {
   "cell_type": "markdown",
   "metadata": {},
   "source": [
    "As we had guessed, there is quite a significant class imbalance in the dataset. Less than 10% of the Pokemon are legendary."
   ]
  },
  {
   "cell_type": "code",
   "execution_count": 9,
   "metadata": {},
   "outputs": [
    {
     "name": "stdout",
     "output_type": "stream",
     "text": [
      "-- pct\n",
      "0    0.878469\n",
      "1    0.121531\n",
      "Name: legendary, dtype: float64\n",
      "-- counts\n",
      "0    918\n",
      "1    127\n",
      "Name: legendary, dtype: int64\n"
     ]
    }
   ],
   "source": [
    "print(\"-- pct\")\n",
    "print(df.legendary.value_counts(normalize=True))\n",
    "print(\"-- counts\")\n",
    "print(df.legendary.value_counts())\n"
   ]
  },
  {
   "cell_type": "code",
   "execution_count": 12,
   "metadata": {},
   "outputs": [
    {
     "data": {
      "text/plain": [
       "array([[<AxesSubplot:title={'center':'hp'}>,\n",
       "        <AxesSubplot:title={'center':'attack'}>,\n",
       "        <AxesSubplot:title={'center':'defense'}>,\n",
       "        <AxesSubplot:title={'center':'special attack'}>],\n",
       "       [<AxesSubplot:title={'center':'special defense'}>,\n",
       "        <AxesSubplot:title={'center':'speed'}>, <AxesSubplot:>,\n",
       "        <AxesSubplot:>]], dtype=object)"
      ]
     },
     "execution_count": 12,
     "metadata": {},
     "output_type": "execute_result"
    },
    {
     "data": {
      "image/png": "[encoded data removed]",
      "text/plain": [
       "<Figure size 1080x432 with 8 Axes>"
      ]
     },
     "metadata": {
      "needs_background": "light"
     },
     "output_type": "display_data"
    }
   ],
   "source": [
    "numerical = ['hp', 'attack', 'defense', 'special attack', 'special defense', 'speed']\n",
    "df[numerical].hist(figsize=(15,6), layout=(2,4))"
   ]
  },
  {
   "cell_type": "code",
   "execution_count": 13,
   "metadata": {},
   "outputs": [
    {
     "data": {
      "text/plain": [
       "[Text(0.5, 1.0, 'total stats by Pokemon generation')]"
      ]
     },
     "execution_count": 13,
     "metadata": {},
     "output_type": "execute_result"
    },
    {
     "data": {
      "image/png": "[encoded data removed]",
      "text/plain": [
       "<Figure size 432x288 with 1 Axes>"
      ]
     },
     "metadata": {
      "needs_background": "light"
     },
     "output_type": "display_data"
    }
   ],
   "source": [
    "sns.boxplot(x=df.generation, y=df.total).set(title=\"total stats by Pokemon generation\")"
   ]
  },
  {
   "cell_type": "code",
   "execution_count": 14,
   "metadata": {},
   "outputs": [
    {
     "data": {
      "text/html": [
       "<div>\n",
       "<style scoped>\n",
       "    .dataframe tbody tr th:only-of-type {\n",
       "        vertical-align: middle;\n",
       "    }\n",
       "\n",
       "    .dataframe tbody tr th {\n",
       "        vertical-align: top;\n",
       "    }\n",
       "\n",
       "    .dataframe thead th {\n",
       "        text-align: right;\n",
       "    }\n",
       "</style>\n",
       "<table border=\"1\" class=\"dataframe\">\n",
       "  <thead>\n",
       "    <tr style=\"text-align: right;\">\n",
       "      <th></th>\n",
       "      <th>pokedex no.</th>\n",
       "      <th>name</th>\n",
       "      <th>type</th>\n",
       "      <th>other type</th>\n",
       "      <th>hp</th>\n",
       "      <th>attack</th>\n",
       "      <th>defense</th>\n",
       "      <th>special attack</th>\n",
       "      <th>special defense</th>\n",
       "      <th>speed</th>\n",
       "      <th>total</th>\n",
       "      <th>generation</th>\n",
       "      <th>legendary</th>\n",
       "    </tr>\n",
       "  </thead>\n",
       "  <tbody>\n",
       "    <tr>\n",
       "      <th>1033</th>\n",
       "      <td>890</td>\n",
       "      <td>Eternatus Eternamax</td>\n",
       "      <td>Poison</td>\n",
       "      <td>Dragon</td>\n",
       "      <td>255</td>\n",
       "      <td>115</td>\n",
       "      <td>250</td>\n",
       "      <td>125</td>\n",
       "      <td>250</td>\n",
       "      <td>130</td>\n",
       "      <td>1125</td>\n",
       "      <td>8</td>\n",
       "      <td>1</td>\n",
       "    </tr>\n",
       "    <tr>\n",
       "      <th>1028</th>\n",
       "      <td>888</td>\n",
       "      <td>Zacian Crowned Sword</td>\n",
       "      <td>Fairy</td>\n",
       "      <td>Steel</td>\n",
       "      <td>92</td>\n",
       "      <td>170</td>\n",
       "      <td>115</td>\n",
       "      <td>80</td>\n",
       "      <td>115</td>\n",
       "      <td>148</td>\n",
       "      <td>720</td>\n",
       "      <td>8</td>\n",
       "      <td>1</td>\n",
       "    </tr>\n",
       "    <tr>\n",
       "      <th>1030</th>\n",
       "      <td>889</td>\n",
       "      <td>Zamazenta Crowned Shield</td>\n",
       "      <td>Fighting</td>\n",
       "      <td>Steel</td>\n",
       "      <td>92</td>\n",
       "      <td>130</td>\n",
       "      <td>145</td>\n",
       "      <td>80</td>\n",
       "      <td>145</td>\n",
       "      <td>128</td>\n",
       "      <td>720</td>\n",
       "      <td>8</td>\n",
       "      <td>1</td>\n",
       "    </tr>\n",
       "    <tr>\n",
       "      <th>1032</th>\n",
       "      <td>890</td>\n",
       "      <td>Eternatus</td>\n",
       "      <td>Poison</td>\n",
       "      <td>Dragon</td>\n",
       "      <td>140</td>\n",
       "      <td>85</td>\n",
       "      <td>95</td>\n",
       "      <td>145</td>\n",
       "      <td>95</td>\n",
       "      <td>130</td>\n",
       "      <td>690</td>\n",
       "      <td>8</td>\n",
       "      <td>1</td>\n",
       "    </tr>\n",
       "    <tr>\n",
       "      <th>1044</th>\n",
       "      <td>898</td>\n",
       "      <td>Calyrex Shadow Rider</td>\n",
       "      <td>Psychic</td>\n",
       "      <td>Ghost</td>\n",
       "      <td>100</td>\n",
       "      <td>85</td>\n",
       "      <td>80</td>\n",
       "      <td>165</td>\n",
       "      <td>100</td>\n",
       "      <td>150</td>\n",
       "      <td>680</td>\n",
       "      <td>8</td>\n",
       "      <td>1</td>\n",
       "    </tr>\n",
       "    <tr>\n",
       "      <th>...</th>\n",
       "      <td>...</td>\n",
       "      <td>...</td>\n",
       "      <td>...</td>\n",
       "      <td>...</td>\n",
       "      <td>...</td>\n",
       "      <td>...</td>\n",
       "      <td>...</td>\n",
       "      <td>...</td>\n",
       "      <td>...</td>\n",
       "      <td>...</td>\n",
       "      <td>...</td>\n",
       "      <td>...</td>\n",
       "      <td>...</td>\n",
       "    </tr>\n",
       "    <tr>\n",
       "      <th>963</th>\n",
       "      <td>827</td>\n",
       "      <td>Nickit</td>\n",
       "      <td>Dark</td>\n",
       "      <td>NaN</td>\n",
       "      <td>40</td>\n",
       "      <td>28</td>\n",
       "      <td>28</td>\n",
       "      <td>47</td>\n",
       "      <td>52</td>\n",
       "      <td>50</td>\n",
       "      <td>245</td>\n",
       "      <td>8</td>\n",
       "      <td>0</td>\n",
       "    </tr>\n",
       "    <tr>\n",
       "      <th>984</th>\n",
       "      <td>848</td>\n",
       "      <td>Toxel</td>\n",
       "      <td>Electric</td>\n",
       "      <td>Poison</td>\n",
       "      <td>40</td>\n",
       "      <td>38</td>\n",
       "      <td>35</td>\n",
       "      <td>54</td>\n",
       "      <td>35</td>\n",
       "      <td>40</td>\n",
       "      <td>242</td>\n",
       "      <td>8</td>\n",
       "      <td>0</td>\n",
       "    </tr>\n",
       "    <tr>\n",
       "      <th>973</th>\n",
       "      <td>837</td>\n",
       "      <td>Rolycoly</td>\n",
       "      <td>Rock</td>\n",
       "      <td>NaN</td>\n",
       "      <td>30</td>\n",
       "      <td>40</td>\n",
       "      <td>50</td>\n",
       "      <td>40</td>\n",
       "      <td>50</td>\n",
       "      <td>30</td>\n",
       "      <td>240</td>\n",
       "      <td>8</td>\n",
       "      <td>0</td>\n",
       "    </tr>\n",
       "    <tr>\n",
       "      <th>1009</th>\n",
       "      <td>872</td>\n",
       "      <td>Snom</td>\n",
       "      <td>Ice</td>\n",
       "      <td>Bug</td>\n",
       "      <td>30</td>\n",
       "      <td>25</td>\n",
       "      <td>35</td>\n",
       "      <td>45</td>\n",
       "      <td>30</td>\n",
       "      <td>20</td>\n",
       "      <td>185</td>\n",
       "      <td>8</td>\n",
       "      <td>0</td>\n",
       "    </tr>\n",
       "    <tr>\n",
       "      <th>960</th>\n",
       "      <td>824</td>\n",
       "      <td>Blipbug</td>\n",
       "      <td>Bug</td>\n",
       "      <td>NaN</td>\n",
       "      <td>25</td>\n",
       "      <td>20</td>\n",
       "      <td>20</td>\n",
       "      <td>25</td>\n",
       "      <td>45</td>\n",
       "      <td>45</td>\n",
       "      <td>180</td>\n",
       "      <td>8</td>\n",
       "      <td>0</td>\n",
       "    </tr>\n",
       "  </tbody>\n",
       "</table>\n",
       "<p>99 rows × 13 columns</p>\n",
       "</div>"
      ],
      "text/plain": [
       "      pokedex no.                      name      type other type   hp  attack  \\\n",
       "1033          890       Eternatus Eternamax    Poison     Dragon  255     115   \n",
       "1028          888      Zacian Crowned Sword     Fairy      Steel   92     170   \n",
       "1030          889  Zamazenta Crowned Shield  Fighting      Steel   92     130   \n",
       "1032          890                 Eternatus    Poison     Dragon  140      85   \n",
       "1044          898      Calyrex Shadow Rider   Psychic      Ghost  100      85   \n",
       "...           ...                       ...       ...        ...  ...     ...   \n",
       "963           827                    Nickit      Dark        NaN   40      28   \n",
       "984           848                     Toxel  Electric     Poison   40      38   \n",
       "973           837                  Rolycoly      Rock        NaN   30      40   \n",
       "1009          872                      Snom       Ice        Bug   30      25   \n",
       "960           824                   Blipbug       Bug        NaN   25      20   \n",
       "\n",
       "      defense  special attack  special defense  speed  total  generation  \\\n",
       "1033      250             125              250    130   1125           8   \n",
       "1028      115              80              115    148    720           8   \n",
       "1030      145              80              145    128    720           8   \n",
       "1032       95             145               95    130    690           8   \n",
       "1044       80             165              100    150    680           8   \n",
       "...       ...             ...              ...    ...    ...         ...   \n",
       "963        28              47               52     50    245           8   \n",
       "984        35              54               35     40    242           8   \n",
       "973        50              40               50     30    240           8   \n",
       "1009       35              45               30     20    185           8   \n",
       "960        20              25               45     45    180           8   \n",
       "\n",
       "      legendary  \n",
       "1033          1  \n",
       "1028          1  \n",
       "1030          1  \n",
       "1032          1  \n",
       "1044          1  \n",
       "...         ...  \n",
       "963           0  \n",
       "984           0  \n",
       "973           0  \n",
       "1009          0  \n",
       "960           0  \n",
       "\n",
       "[99 rows x 13 columns]"
      ]
     },
     "execution_count": 14,
     "metadata": {},
     "output_type": "execute_result"
    }
   ],
   "source": [
    "df[df[\"generation\"]==8].sort_values([\"total\"], ascending=False)"
   ]
  },
  {
   "cell_type": "code",
   "execution_count": 15,
   "metadata": {},
   "outputs": [
    {
     "data": {
      "text/plain": [
       "[Text(0.5, 1.0, 'total stats by Pokemon generation - no legendaries')]"
      ]
     },
     "execution_count": 15,
     "metadata": {},
     "output_type": "execute_result"
    },
    {
     "data": {
      "image/png": "[encoded data removed]",
      "text/plain": [
       "<Figure size 432x288 with 1 Axes>"
      ]
     },
     "metadata": {
      "needs_background": "light"
     },
     "output_type": "display_data"
    }
   ],
   "source": [
    "no_legendary_df = df[df.legendary==False]\n",
    "(sns.boxplot(\n",
    "    x=no_legendary_df.generation,\n",
    "    y=no_legendary_df.total)\n",
    "    .set(title=\"total stats by Pokemon generation - no legendaries\"))\n"
   ]
  },
  {
   "cell_type": "code",
   "execution_count": 16,
   "metadata": {},
   "outputs": [
    {
     "data": {
      "text/plain": [
       "[Text(0.5, 1.0, 'total stats by Pokemon generation - only legendaries')]"
      ]
     },
     "execution_count": 16,
     "metadata": {},
     "output_type": "execute_result"
    },
    {
     "data": {
      "image/png": "[encoded data removed]",
      "text/plain": [
       "<Figure size 432x288 with 1 Axes>"
      ]
     },
     "metadata": {
      "needs_background": "light"
     },
     "output_type": "display_data"
    }
   ],
   "source": [
    "legendary_df = df[df.legendary==True]\n",
    "(sns.boxplot(\n",
    "    x=legendary_df.generation,\n",
    "    y=legendary_df.total)\n",
    "    .set(title=\"total stats by Pokemon generation - only legendaries\"))\n"
   ]
  },
  {
   "cell_type": "code",
   "execution_count": 97,
   "metadata": {},
   "outputs": [],
   "source": [
    "legendary_by_generation = df.groupby(['generation'])['legendary'].value_counts(normalize=True).reset_index(name='pct')\n",
    "poke_pivot = (legendary_by_generation.pivot(index=['generation'],\n",
    "                                            columns=['legendary'],\n",
    "                                            values='pct'))"
   ]
  },
  {
   "cell_type": "code",
   "execution_count": 98,
   "metadata": {},
   "outputs": [
    {
     "data": {
      "image/png": "[encoded data removed]",
      "text/plain": [
       "<Figure size 864x288 with 1 Axes>"
      ]
     },
     "metadata": {
      "needs_background": "light"
     },
     "output_type": "display_data"
    }
   ],
   "source": [
    "def plot_hbars_stacked_100(data, title, subtitle):\n",
    "    fields = data.columns.tolist()\n",
    "    \n",
    "    fig, ax = plt.subplots(1, figsize=(12,4))\n",
    "    left = len(data) * [0]\n",
    "    \n",
    "    for idx, name in enumerate(fields):\n",
    "        plt.barh(data.index, data[name], left = left)\n",
    "        left = left + data[name]\n",
    "        \n",
    "    # title and subtitle\n",
    "    plt.title(title + \"\\n\", loc='left')\n",
    "    plt.text(0, ax.get_yticks()[-1] + 0.75, subtitle)\n",
    "    \n",
    "    # legend\n",
    "    plt.legend(fields, bbox_to_anchor=([0.58, 1, 0, 0]), ncol=len(fields), frameon=False)\n",
    "    \n",
    "    # remove spines\n",
    "    ax.spines['right'].set_visible(False)\n",
    "    ax.spines['left'].set_visible(False)\n",
    "    ax.spines['top'].set_visible(False)\n",
    "    ax.spines['bottom'].set_visible(False)\n",
    "    \n",
    "    # format x ticks\n",
    "    xticks = np.arange(0,1.1,0.1)\n",
    "    xlabels = ['{}%'.format(i) for i in np.arange(0,101,10)]\n",
    "    plt.xticks(xticks, xlabels)\n",
    "    \n",
    "    # format y ticks\n",
    "    plt.yticks(data.index)\n",
    "    \n",
    "    # adjust limits and draw grid lines\n",
    "    plt.ylim(0, ax.get_yticks()[-1] + 1.5)\n",
    "    ax.xaxis.grid(color='lightgray', linestyle='dashed')\n",
    "    \n",
    "    plt.show()\n",
    "    \n",
    "plot_hbars_stacked_100(poke_pivot, title='Legendary vs. Non-Legendary Pokemon', subtitle='Proportion by Generation')"
   ]
  },
  {
   "cell_type": "markdown",
   "metadata": {},
   "source": [
    "### Baseline modeling performance using over-sampling method\n",
    "How good is overall predictability using a simple logistic regression model?"
   ]
  },
  {
   "cell_type": "code",
   "execution_count": null,
   "metadata": {},
   "outputs": [],
   "source": [
    "dataX = df.drop(columns = ['legendary', 'pokedex no.', 'name', 'type', 'other type', 'generation'])\n",
    "dataY = df['legendary']\n",
    "\n",
    "train_ratio = 0.75\n",
    "validation_ratio = 0.15\n",
    "test_ratio = 0.10\n",
    "\n",
    "# train is now 75% of the entire data set\n",
    "# the _junk suffix means that we drop that variable completely\n",
    "x_train, x_test, y_train, y_test = train_test_split(dataX, dataY, test_size=1 - train_ratio)\n",
    "\n",
    "# test is now 10% of the initial data set\n",
    "# validation is now 15% of the initial data set\n",
    "x_val, x_test, y_val, y_test = train_test_split(x_test, y_test, test_size=test_ratio/(test_ratio + validation_ratio)) \n",
    "\n",
    "# print(x_train, x_val, x_test)"
   ]
  },
  {
   "cell_type": "code",
   "execution_count": 106,
   "metadata": {},
   "outputs": [],
   "source": [
    "LR = LogisticRegression()\n",
    "LR.fit(x_train, y_train) #fitting the model \n",
    "y_pred = LR.predict(x_test) #prediction"
   ]
  },
  {
   "cell_type": "code",
   "execution_count": 113,
   "metadata": {},
   "outputs": [
    {
     "name": "stdout",
     "output_type": "stream",
     "text": [
      "Confusion matrix, without normalization\n",
      "[[90  2]\n",
      " [ 6  7]]\n",
      "True Negatives:  90\n",
      "False Positives:  2\n",
      "False Negatives:  6\n",
      "True Positives:  7\n"
     ]
    },
    {
     "data": {
      "image/png": "[encoded data removed]",
      "text/plain": [
       "<Figure size 432x288 with 2 Axes>"
      ]
     },
     "metadata": {
      "needs_background": "light"
     },
     "output_type": "display_data"
    }
   ],
   "source": [
    "#Evaluation of Model - Confusion Matrix Plot\n",
    "def plot_confusion_matrix(cm, classes,\n",
    "                          normalize=False,\n",
    "                          title='Confusion matrix',\n",
    "                          cmap=plt.cm.Blues):\n",
    "    \"\"\"\n",
    "    This function prints and plots the confusion matrix.\n",
    "    Normalization can be applied by setting `normalize=True`.\n",
    "    \"\"\"\n",
    "    if normalize:\n",
    "        cm = cm.astype('float') / cm.sum(axis=1)[:, np.newaxis]\n",
    "        print(\"Normalized confusion matrix\")\n",
    "    else:\n",
    "        print('Confusion matrix, without normalization')\n",
    "\n",
    "    print(cm)\n",
    "\n",
    "    plt.imshow(cm, interpolation='nearest', cmap=cmap)\n",
    "    plt.title(title)\n",
    "    plt.colorbar()\n",
    "    tick_marks = np.arange(len(classes))\n",
    "    plt.xticks(tick_marks, classes, rotation=45)\n",
    "    plt.yticks(tick_marks, classes)\n",
    "\n",
    "    fmt = '.2f' if normalize else 'd'\n",
    "    thresh = cm.max() / 2.\n",
    "    for i, j in itertools.product(range(cm.shape[0]), range(cm.shape[1])):\n",
    "        plt.text(j, i, format(cm[i, j], fmt),\n",
    "                 horizontalalignment=\"center\",\n",
    "                 color=\"white\" if cm[i, j] > thresh else \"black\")\n",
    "\n",
    "    plt.ylabel('True label')\n",
    "    plt.xlabel('Predicted label')\n",
    "    plt.tight_layout()\n",
    "\n",
    "\n",
    "# Compute confusion matrix\n",
    "cnf_matrix = confusion_matrix(y_test, y_pred)\n",
    "np.set_printoptions(precision=2)\n",
    "\n",
    "# Plot non-normalized confusion matrix\n",
    "plt.figure()\n",
    "plot_confusion_matrix(cnf_matrix, classes=['Non-Legendary','Legendary'],\n",
    "                      title='Confusion matrix, without normalization')\n",
    "\n",
    "#extracting true_positives, false_positives, true_negatives, false_negatives\n",
    "tn, fp, fn, tp = confusion_matrix(y_test, y_pred).ravel()\n",
    "print(\"True Negatives: \",tn)\n",
    "print(\"False Positives: \",fp)\n",
    "print(\"False Negatives: \",fn)\n",
    "print(\"True Positives: \",tp)"
   ]
  },
  {
   "cell_type": "markdown",
   "metadata": {},
   "source": [
    "- **True Positive** — Label which was predicted Positive (in our scenario Legendary) and is actually Positive (i.e. belong to Positive ‘Legendary’ Class).\n",
    "- **True Negative** — Label which was predicted Negative (in our scenario Non-Legendary) and is actually Negative (i.e. belong to Negative ‘Non-Legendary’ Class).\n",
    "- **False Positive** — Label which was predicted as Positive, but is actually Negative, or in simple words the Pokemon was wrongly predicted as Legendary by our Model, but is actually Non-Legendary. In Hypothesis Testing it is also known as **Type 1 error** or the incorrect rejection of Null Hypothesis.\n",
    "- **False Negatives** — Labels which was predicted as Negative, but is actually Positive (Legendary predicted as Non-Legendary). It is also known as **Type 2 error**, which leads to the failure in rejection of Null Hypothesis.\n",
    "<img src=\"https://www.simplypsychology.org/type-1-and-2-errors.jpg\" width=\"600\">"
   ]
  },
  {
   "cell_type": "code",
   "execution_count": 125,
   "metadata": {},
   "outputs": [
    {
     "name": "stdout",
     "output_type": "stream",
     "text": [
      "Accuracy 92.38%:\n",
      "\n",
      "Precision 0.78\n",
      "Higher precision -> fewer false positives (predicted as Legendary but actually Non-Legendary)\n",
      "\n",
      "Recall 0.54\n",
      "Higher recall -> fewer false negatives (actually Legendary but predicted as Non-Legendary)\n",
      "\n",
      "F1 Score 0.64\n",
      "Harmonic mean of Precision & Recall, used to indicate a balance between Precision & Recall. Ranges between 0 - 1.\n",
      "\n",
      "F2 0.57\n",
      "\n",
      "F0.5 0.71\n",
      "It is the general form of F measure — Beta 0.5 & 2 are usually used as measures, 0.5 indicates the Inclination towards Precision whereas 2 favors Recall giving it twice the weightage compared to precision.\n",
      "\n",
      "Specificity 0.98\n",
      "True Negative Rate\n"
     ]
    },
    {
     "name": "stderr",
     "output_type": "stream",
     "text": [
      "/Users/t0rracat/miniforge3/envs/pk_classifier/lib/python3.8/site-packages/sklearn/utils/deprecation.py:87: FutureWarning: Function plot_roc_curve is deprecated; This will be removed in v0.5.0. Please use scikitplot.metrics.plot_roc instead.\n",
      "  warnings.warn(msg, category=FutureWarning)\n"
     ]
    },
    {
     "data": {
      "image/png": "[encoded data removed]",
      "text/plain": [
       "<Figure size 432x288 with 1 Axes>"
      ]
     },
     "metadata": {
      "needs_background": "light"
     },
     "output_type": "display_data"
    }
   ],
   "source": [
    "# model accuracy\n",
    "#Accuracy\n",
    "Accuracy = (tn+tp)*100/(tp+tn+fp+fn) \n",
    "print(\"Accuracy {:0.2f}%:\".format(Accuracy))\n",
    "print()\n",
    "\n",
    "#Precision \n",
    "Precision = tp/(tp+fp) \n",
    "print(\"Precision {:0.2f}\".format(Precision))\n",
    "print(\"Higher precision -> fewer false positives (predicted as Legendary but actually Non-Legendary)\")\n",
    "print()\n",
    "\n",
    "#Recall \n",
    "Recall = tp/(tp+fn) \n",
    "print(\"Recall {:0.2f}\".format(Recall))\n",
    "print(\"Higher recall -> fewer false negatives (actually Legendary but predicted as Non-Legendary)\")\n",
    "print()\n",
    "\n",
    "#F1 Score\n",
    "f1 = (2*Precision*Recall)/(Precision + Recall)\n",
    "print(\"F1 Score {:0.2f}\".format(f1))\n",
    "print(\"Harmonic mean of Precision & Recall, used to indicate a balance between Precision & Recall. Ranges between 0 - 1.\")\n",
    "print()\n",
    "\n",
    "#F-beta score calculation\n",
    "def fbeta(precision, recall, beta):\n",
    "    return ((1+pow(beta,2))*precision*recall)/(pow(beta,2)*precision + recall)\n",
    "            \n",
    "f2 = fbeta(Precision, Recall, 2)\n",
    "f0_5 = fbeta(Precision, Recall, 0.5)\n",
    "\n",
    "print(\"F2 {:0.2f}\".format(f2))\n",
    "print(\"\\nF0.5 {:0.2f}\".format(f0_5))\n",
    "print(\"It is the general form of F measure — Beta 0.5 & 2 are usually used as measures, 0.5 indicates the Inclination towards Precision whereas 2 favors Recall giving it twice the weightage compared to precision.\")\n",
    "print()\n",
    "\n",
    "#Specificity \n",
    "Specificity = tn/(tn+fp)\n",
    "print(\"Specificity {:0.2f}\".format(Specificity))\n",
    "print(\"True Negative Rate\")\n",
    "\n",
    "#ROC\n",
    "import scikitplot as skplt #to make things easy\n",
    "y_pred_proba = LR.predict_proba(x_test)\n",
    "skplt.metrics.plot_roc_curve(y_test, y_pred_proba)\n",
    "plt.show()"
   ]
  },
  {
   "cell_type": "markdown",
   "metadata": {},
   "source": [
    "Beause we have class imbalance, the following performance measures should be considered when evaluating our model:\n",
    "- Confusion matrix\n",
    "- Precision (exactness)\n",
    "- Recall (completeness)\n",
    "- F-score (weighted average of precision and recall)\n",
    "- ROC curves (sensitivity and specificity)\n",
    "- Kappa (or Cohen's kappa)"
   ]
  },
  {
   "cell_type": "markdown",
   "metadata": {},
   "source": []
  }
 ],
 "metadata": {
  "interpreter": {
   "hash": "07a70a5077e9c9feae5d08fa41fc44d95abc22f10394969018e5e0f4ca96aa5b"
  },
  "kernelspec": {
   "display_name": "Python 3.8.12 64-bit ('pk_classifier': conda)",
   "language": "python",
   "name": "python3812jvsc74a57bd06a9d6dd45e5d8d4c7b0049e12ab02e72bfb9a070fe4c5be2254473203f56d001"
  },
  "language_info": {
   "codemirror_mode": {
    "name": "ipython",
    "version": 3
   },
   "file_extension": ".py",
   "mimetype": "text/x-python",
   "name": "python",
   "nbconvert_exporter": "python",
   "pygments_lexer": "ipython3",
   "version": "3.8.12"
  }
 },
 "nbformat": 4,
 "nbformat_minor": 4
}
