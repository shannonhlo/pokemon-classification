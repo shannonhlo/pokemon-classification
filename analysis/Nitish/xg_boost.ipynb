{
 "cells": [
  {
   "cell_type": "code",
   "execution_count": 31,
   "metadata": {},
   "outputs": [],
   "source": [
    "# imports\n",
    "from sklearn.linear_model import LogisticRegression\n",
    "import pandas as pd\n",
    "import numpy as np\n",
    "from sklearn.metrics import accuracy_score\n",
    "from sklearn.metrics import roc_auc_score\n",
    "from sklearn.metrics import log_loss\n",
    "from sklearn.metrics import precision_score\n",
    "from sklearn.metrics import recall_score\n",
    "from sklearn.metrics import confusion_matrix\n",
    "from sklearn.metrics import roc_curve\n",
    "import matplotlib\n",
    "import matplotlib.pyplot as plt\n",
    "import seaborn as sns\n",
    "from sklearn.cluster import KMeans\n",
    "from sklearn.preprocessing import StandardScaler\n",
    "from sklearn.ensemble import GradientBoostingClassifier\n",
    "from sklearn.ensemble import AdaBoostClassifier\n",
    "from sklearn.discriminant_analysis import LinearDiscriminantAnalysis\n",
    "from sklearn.model_selection import train_test_split, GridSearchCV, RandomizedSearchCV\n",
    "from sklearn.model_selection import StratifiedKFold\n",
    "from xgboost import XGBClassifier\n",
    "import warnings\n",
    "warnings.filterwarnings('ignore')\n",
    "from xgboost import plot_importance\n",
    "from matplotlib import pyplot\n",
    "from sklearn.calibration import calibration_curve\n",
    "from sklearn.model_selection import KFold\n",
    "from sklearn.model_selection import train_test_split"
   ]
  },
  {
   "cell_type": "code",
   "execution_count": 39,
   "metadata": {},
   "outputs": [],
   "source": [
    "# function to convert col names to lowercase\n",
    "def clean_cols(cols):\n",
    "    return [col.lower() for col in cols]\n",
    "\n",
    "# Function to train baseline logistic regression model\n",
    "def get_baseline_model_and_test_scores_for_viz(X_train, y_train, X_test, y_test):\n",
    "    '''\n",
    "    Running baseline logistic regression model. Returning csv with model scores that can be used\n",
    "    for prelim development of heatmaps, dashboards and shooting/goaltending talent models.\n",
    "    '''\n",
    "\n",
    "    logit = LogisticRegression(max_iter=10000)\n",
    "    logit.fit(X_train, y_train)\n",
    "\n",
    "    preds_prob = pd.DataFrame(logit.predict_proba(X_test)[:, 1], columns=['preds_prob'])\n",
    "    train_score = logit.score(X_train, y_train)\n",
    "    test_score = logit.score(X_test, y_test)\n",
    "    betas = pd.Series(logit.coef_[0], index=X_train.columns)\n",
    "    betas = betas.append(pd.Series({\"Intercept\": logit.intercept_[0]}))\n",
    "\n",
    "    print(betas)\n",
    "    print('The train score is {} and the test score is {}'.format(train_score, test_score))\n",
    "    print('The accuracy is {}'.format(accuracy_score(y_test, logit.predict(X_test))))\n",
    "    print('The roc auc score is {}'.format(roc_auc_score(y_test, logit.predict_proba(X_test)[:, 1])))\n",
    "    print('The log loss is {}'.format(log_loss(y_test, logit.predict_proba(X_test)[:, 1])))\n",
    "    print('The precision is {}'.format(precision_score(y_test, logit.predict(X_test))))\n",
    "    print('The recall is {}'.format(recall_score(y_test, logit.predict(X_test))))\n",
    "\n",
    "    # Confusion Matrix\n",
    "    y_pred = logit.predict(X_test)\n",
    "    cfm = confusion_matrix(y_true=y_test, y_pred=y_pred)\n",
    "    ax = sns.heatmap(cfm, annot=True)\n",
    "    ax.set(xlabel='Predicted', ylabel='Actual');\n",
    "    plt.show()\n",
    "\n",
    "    # Goal and No Goal Histograms\n",
    "    y_proba = logit.predict_proba(X_test)\n",
    "    y_proba = np.concatenate((y_proba.T, np.array([y_test])))\n",
    "    df_proba = pd.DataFrame(y_proba.T, columns=['prob0', 'prob1', 'True'])\n",
    "    sns.distplot(df_proba[df_proba['True'] == 1].prob1, bins=30, kde=False, label='Actual value 1')\n",
    "    sns.distplot(df_proba[df_proba['True'] == 0].prob1, bins=30, kde=False, label='Actual value 0')\n",
    "    plt.legend()\n",
    "    plt.show()\n",
    "\n",
    "# Function to build any model and test scores\n",
    "def get_model_and_test_scores(mdl, X_train, y_train, X_test, y_test):\n",
    "    mdl.fit(X_train, y_train)\n",
    "\n",
    "    train_score = mdl.score(X_train, y_train)\n",
    "    test_score = mdl.score(X_test, y_test)\n",
    "    y_pred = mdl.predict(X_test)\n",
    "\n",
    "    print('The train score is {} and the test score is {}'.format(train_score, test_score))\n",
    "    print('The accuracy is {}'.format(accuracy_score(y_test, y_pred)))\n",
    "    print('The roc auc score is {}'.format(roc_auc_score(y_test, mdl.predict_proba(X_test)[:, 1])))\n",
    "    print('The log loss is {}'.format(log_loss(y_test, mdl.predict_proba(X_test)[:, 1])))\n",
    "    print('The precision is {}'.format(precision_score(y_test, y_pred)))\n",
    "    print('The recall is {}'.format(recall_score(y_test, y_pred)))\n",
    "\n",
    "    # Confusion Matrix\n",
    "    cfm = confusion_matrix(y_true=y_test, y_pred=y_pred)\n",
    "    ax = sns.heatmap(cfm, annot=True)\n",
    "    ax.set(xlabel='Predicted', ylabel='Actual');\n",
    "    plt.show()\n",
    "\n",
    "    # Goal and No Goal Histograms\n",
    "    y_proba = mdl.predict_proba(X_test)\n",
    "    y_proba = np.concatenate((y_proba.T, np.array([y_test])))\n",
    "    df_proba = pd.DataFrame(y_proba.T, columns=['prob0', 'prob1', 'True'])\n",
    "    sns.distplot(df_proba[df_proba['True'] == 1].prob1, bins=30, kde=False, label='Actual value 1')\n",
    "    sns.distplot(df_proba[df_proba['True'] == 0].prob1, bins=30, kde=False, label='Actual value 0')\n",
    "    plt.legend()\n",
    "    plt.show()\n",
    "\n",
    "def grid_search_xgb(x_train, y_train):\n",
    "\n",
    "  # A parameter grid for XGBoost\n",
    "  params = {\n",
    "        'min_child_weight': [1, 5, 10], #[1, 5, 10]\n",
    "        'gamma': [0.5, 1, 1.5, 2, 5],\n",
    "        'subsample': [0.6, 0.8, 1.0],\n",
    "        'colsample_bytree': [0.6, 0.8, 1.0],\n",
    "        'max_depth': [3, 4, 5] #[3, 4, 5]\n",
    "  }\n",
    "  xgb = XGBClassifier(learning_rate=0.02, n_estimators=600, objective='binary:logistic',\n",
    "                      silent=True, nthread=1)\n",
    "\n",
    "  folds = 5\n",
    "  # param_comb = 5\n",
    "\n",
    "  skf = StratifiedKFold(n_splits=folds, shuffle=True, random_state=1001)\n",
    "\n",
    "  # random_search = RandomizedSearchCV(xgb, param_distributions=params, n_iter=param_comb, scoring='neg_log_loss', n_jobs=4,\n",
    "  #                                    cv=skf.split(x_train, y_train), verbose=3, random_state=1001)\n",
    "\n",
    "  grid = GridSearchCV(estimator=xgb, param_grid=params, scoring='neg_log_loss', n_jobs=4, cv=skf.split(x_train, y_train), verbose=3)\n",
    "\n",
    "  # print('\\n Best hyperparameters:')\n",
    "  # print(random_search.best_params_)\n",
    "\n",
    "  # grid = GridSearchCV(XGBClassifier(use_label_encoder=False), param_grid, cv=5, scoring = 'neg_log_loss', error_score=0.0)\n",
    "  grid_mdl = grid.fit(x_train, y_train)\n",
    "  print(grid_mdl.best_score_)\n",
    "  print(grid_mdl.best_params_)\n",
    "\n",
    "  return grid\n"
   ]
  },
  {
   "cell_type": "code",
   "execution_count": 40,
   "metadata": {},
   "outputs": [
    {
     "data": {
      "text/html": [
       "<div>\n",
       "<style scoped>\n",
       "    .dataframe tbody tr th:only-of-type {\n",
       "        vertical-align: middle;\n",
       "    }\n",
       "\n",
       "    .dataframe tbody tr th {\n",
       "        vertical-align: top;\n",
       "    }\n",
       "\n",
       "    .dataframe thead th {\n",
       "        text-align: right;\n",
       "    }\n",
       "</style>\n",
       "<table border=\"1\" class=\"dataframe\">\n",
       "  <thead>\n",
       "    <tr style=\"text-align: right;\">\n",
       "      <th></th>\n",
       "      <th>pokedex no.</th>\n",
       "      <th>name</th>\n",
       "      <th>type</th>\n",
       "      <th>other type</th>\n",
       "      <th>hp</th>\n",
       "      <th>attack</th>\n",
       "      <th>defense</th>\n",
       "      <th>special attack</th>\n",
       "      <th>special defense</th>\n",
       "      <th>speed</th>\n",
       "      <th>total</th>\n",
       "      <th>generation</th>\n",
       "      <th>legendary</th>\n",
       "    </tr>\n",
       "  </thead>\n",
       "  <tbody>\n",
       "    <tr>\n",
       "      <th>0</th>\n",
       "      <td>1</td>\n",
       "      <td>Bulbasaur</td>\n",
       "      <td>Grass</td>\n",
       "      <td>Poison</td>\n",
       "      <td>45</td>\n",
       "      <td>49</td>\n",
       "      <td>49</td>\n",
       "      <td>65</td>\n",
       "      <td>65</td>\n",
       "      <td>45</td>\n",
       "      <td>318</td>\n",
       "      <td>1</td>\n",
       "      <td>0</td>\n",
       "    </tr>\n",
       "    <tr>\n",
       "      <th>1</th>\n",
       "      <td>2</td>\n",
       "      <td>Ivysaur</td>\n",
       "      <td>Grass</td>\n",
       "      <td>Poison</td>\n",
       "      <td>60</td>\n",
       "      <td>62</td>\n",
       "      <td>63</td>\n",
       "      <td>80</td>\n",
       "      <td>80</td>\n",
       "      <td>60</td>\n",
       "      <td>405</td>\n",
       "      <td>1</td>\n",
       "      <td>0</td>\n",
       "    </tr>\n",
       "    <tr>\n",
       "      <th>2</th>\n",
       "      <td>3</td>\n",
       "      <td>Venusaur</td>\n",
       "      <td>Grass</td>\n",
       "      <td>Poison</td>\n",
       "      <td>80</td>\n",
       "      <td>82</td>\n",
       "      <td>83</td>\n",
       "      <td>100</td>\n",
       "      <td>100</td>\n",
       "      <td>80</td>\n",
       "      <td>525</td>\n",
       "      <td>1</td>\n",
       "      <td>0</td>\n",
       "    </tr>\n",
       "    <tr>\n",
       "      <th>3</th>\n",
       "      <td>3</td>\n",
       "      <td>Mega Venusaur</td>\n",
       "      <td>Grass</td>\n",
       "      <td>Poison</td>\n",
       "      <td>80</td>\n",
       "      <td>100</td>\n",
       "      <td>123</td>\n",
       "      <td>122</td>\n",
       "      <td>120</td>\n",
       "      <td>80</td>\n",
       "      <td>625</td>\n",
       "      <td>1</td>\n",
       "      <td>0</td>\n",
       "    </tr>\n",
       "    <tr>\n",
       "      <th>4</th>\n",
       "      <td>4</td>\n",
       "      <td>Charmander</td>\n",
       "      <td>Fire</td>\n",
       "      <td>NaN</td>\n",
       "      <td>39</td>\n",
       "      <td>52</td>\n",
       "      <td>43</td>\n",
       "      <td>60</td>\n",
       "      <td>50</td>\n",
       "      <td>65</td>\n",
       "      <td>309</td>\n",
       "      <td>1</td>\n",
       "      <td>0</td>\n",
       "    </tr>\n",
       "  </tbody>\n",
       "</table>\n",
       "</div>"
      ],
      "text/plain": [
       "   pokedex no.           name   type other type  hp  attack  defense  \\\n",
       "0            1      Bulbasaur  Grass     Poison  45      49       49   \n",
       "1            2        Ivysaur  Grass     Poison  60      62       63   \n",
       "2            3       Venusaur  Grass     Poison  80      82       83   \n",
       "3            3  Mega Venusaur  Grass     Poison  80     100      123   \n",
       "4            4     Charmander   Fire        NaN  39      52       43   \n",
       "\n",
       "   special attack  special defense  speed  total  generation  legendary  \n",
       "0              65               65     45    318           1          0  \n",
       "1              80               80     60    405           1          0  \n",
       "2             100              100     80    525           1          0  \n",
       "3             122              120     80    625           1          0  \n",
       "4              60               50     65    309           1          0  "
      ]
     },
     "execution_count": 40,
     "metadata": {},
     "output_type": "execute_result"
    }
   ],
   "source": [
    "# Read data\n",
    "file_path = \"/Users/nitishkumar/pokemon_classification/datasets/Pokemon.csv\"\n",
    "\n",
    "df = pd.read_csv(file_path)\n",
    "df.columns = clean_cols(df.columns)\n",
    "df.head()"
   ]
  },
  {
   "cell_type": "code",
   "execution_count": 41,
   "metadata": {},
   "outputs": [],
   "source": [
    "# create x and y dataframes\n",
    "FEATURE_COLS = ['hp', 'attack', 'defense', 'special attack', 'special defense', 'speed']\n",
    "X = df[FEATURE_COLS]\n",
    "y = df['legendary']"
   ]
  },
  {
   "cell_type": "code",
   "execution_count": 43,
   "metadata": {},
   "outputs": [],
   "source": [
    "# Creating random training and test sets\n",
    "X_train, X_test, y_train, y_test = train_test_split(X, y, test_size=0.33, random_state=42)"
   ]
  },
  {
   "cell_type": "code",
   "execution_count": 44,
   "metadata": {},
   "outputs": [
    {
     "name": "stdout",
     "output_type": "stream",
     "text": [
      "hp                  0.039877\n",
      "attack              0.012320\n",
      "defense             0.039909\n",
      "special attack      0.031702\n",
      "special defense     0.019176\n",
      "speed               0.046847\n",
      "Intercept         -18.293279\n",
      "dtype: float64\n",
      "The train score is 0.93 and the test score is 0.9217391304347826\n",
      "The accuracy is 0.9217391304347826\n",
      "The roc auc score is 0.9213258785942492\n",
      "The log loss is 0.19159471862115918\n",
      "The precision is 0.5714285714285714\n",
      "The recall is 0.625\n"
     ]
    },
    {
     "data": {
      "image/png": "[encoded data removed]",
      "text/plain": [
       "<Figure size 432x288 with 2 Axes>"
      ]
     },
     "metadata": {
      "needs_background": "light"
     },
     "output_type": "display_data"
    },
    {
     "data": {
      "image/png": "[encoded data removed]",
      "text/plain": [
       "<Figure size 432x288 with 1 Axes>"
      ]
     },
     "metadata": {
      "needs_background": "light"
     },
     "output_type": "display_data"
    }
   ],
   "source": [
    "# Create a baseline logistic regression model\n",
    "get_baseline_model_and_test_scores_for_viz(X_train, y_train, X_test, y_test)"
   ]
  },
  {
   "cell_type": "code",
   "execution_count": 45,
   "metadata": {},
   "outputs": [
    {
     "name": "stdout",
     "output_type": "stream",
     "text": [
      "[18:40:13] WARNING: /Users/travis/build/dmlc/xgboost/src/learner.cc:576: \n",
      "Parameters: { \"silent\" } might not be used.\n",
      "\n",
      "  This could be a false alarm, with some parameters getting used by language bindings but\n",
      "  then being mistakenly passed down to XGBoost core, or some parameter actually being used\n",
      "  but getting flagged wrongly here. Please open an issue if you find any such cases.\n",
      "\n",
      "\n",
      "[18:40:13] WARNING: /Users/travis/build/dmlc/xgboost/src/learner.cc:1115: Starting in XGBoost 1.3.0, the default evaluation metric used with the objective 'binary:logistic' was changed from 'error' to 'logloss'. Explicitly set eval_metric if you'd like to restore the old behavior.\n",
      "The train score is 0.9657142857142857 and the test score is 0.936231884057971\n",
      "The accuracy is 0.936231884057971\n",
      "The roc auc score is 0.9252695686900959\n",
      "The log loss is 0.19104811807527491\n",
      "The precision is 0.6470588235294118\n",
      "The recall is 0.6875\n"
     ]
    },
    {
     "data": {
      "image/png": "[encoded data removed]",
      "text/plain": [
       "<Figure size 432x288 with 2 Axes>"
      ]
     },
     "metadata": {
      "needs_background": "light"
     },
     "output_type": "display_data"
    },
    {
     "data": {
      "image/png": "[encoded data removed]",
      "text/plain": [
       "<Figure size 432x288 with 1 Axes>"
      ]
     },
     "metadata": {
      "needs_background": "light"
     },
     "output_type": "display_data"
    }
   ],
   "source": [
    "# Creating an xgb model\n",
    "\n",
    "# Initiate classifier to use\n",
    "mdl = XGBClassifier(learning_rate=0.02,\n",
    "                   n_estimators=600,\n",
    "                   min_child_weight=5,\n",
    "                   max_depth=5,\n",
    "                   objective='binary:logistic',\n",
    "                   silent=True,\n",
    "                   nthread=1)\n",
    "\n",
    "get_model_and_test_scores(mdl, X_train, y_train, X_test, y_test)"
   ]
  },
  {
   "cell_type": "code",
   "execution_count": null,
   "metadata": {},
   "outputs": [],
   "source": [
    "# grid search for xGB\n",
    "grid_mdl = grid_search_xgb(X_train, y_train)"
   ]
  },
  {
   "cell_type": "code",
   "execution_count": 53,
   "metadata": {},
   "outputs": [
    {
     "data": {
      "text/plain": [
       "{'colsample_bytree': 0.6,\n",
       " 'gamma': 1.5,\n",
       " 'max_depth': 5,\n",
       " 'min_child_weight': 1,\n",
       " 'subsample': 0.6}"
      ]
     },
     "execution_count": 53,
     "metadata": {},
     "output_type": "execute_result"
    }
   ],
   "source": [
    "grid_mdl.best_params_"
   ]
  },
  {
   "cell_type": "code",
   "execution_count": 48,
   "metadata": {},
   "outputs": [
    {
     "name": "stdout",
     "output_type": "stream",
     "text": [
      "[19:07:09] WARNING: /Users/travis/build/dmlc/xgboost/src/learner.cc:576: \n",
      "Parameters: { \"silent\" } might not be used.\n",
      "\n",
      "  This could be a false alarm, with some parameters getting used by language bindings but\n",
      "  then being mistakenly passed down to XGBoost core, or some parameter actually being used\n",
      "  but getting flagged wrongly here. Please open an issue if you find any such cases.\n",
      "\n",
      "\n",
      "[19:07:09] WARNING: /Users/travis/build/dmlc/xgboost/src/learner.cc:1115: Starting in XGBoost 1.3.0, the default evaluation metric used with the objective 'binary:logistic' was changed from 'error' to 'logloss'. Explicitly set eval_metric if you'd like to restore the old behavior.\n",
      "The train score is 0.9771428571428571 and the test score is 0.9449275362318841\n",
      "The accuracy is 0.9449275362318841\n",
      "The roc auc score is 0.9316094249201278\n",
      "The log loss is 0.17463375801234032\n",
      "The precision is 0.7096774193548387\n",
      "The recall is 0.6875\n"
     ]
    },
    {
     "data": {
      "image/png": "[encoded data removed]",
      "text/plain": [
       "<Figure size 432x288 with 2 Axes>"
      ]
     },
     "metadata": {
      "needs_background": "light"
     },
     "output_type": "display_data"
    },
    {
     "data": {
      "image/png": "[encoded data removed]",
      "text/plain": [
       "<Figure size 432x288 with 1 Axes>"
      ]
     },
     "metadata": {
      "needs_background": "light"
     },
     "output_type": "display_data"
    }
   ],
   "source": [
    "# Creating an xgb model\n",
    "\n",
    "# Initiate classifier to use\n",
    "mdl = XGBClassifier(learning_rate=0.02,\n",
    "                   n_estimators=600,\n",
    "                   min_child_weight=1,\n",
    "                   max_depth=5,\n",
    "                   objective='binary:logistic',\n",
    "                   colsample_bytree=0.6, \n",
    "                   gamma=1.5, \n",
    "                   subsample=0.6,\n",
    "                   silent=True,\n",
    "                   nthread=1)\n",
    "\n",
    "get_model_and_test_scores(mdl, X_train, y_train, X_test, y_test)"
   ]
  },
  {
   "cell_type": "code",
   "execution_count": 49,
   "metadata": {},
   "outputs": [
    {
     "name": "stdout",
     "output_type": "stream",
     "text": [
      "[19:07:21] WARNING: /Users/travis/build/dmlc/xgboost/src/learner.cc:576: \n",
      "Parameters: { \"silent\" } might not be used.\n",
      "\n",
      "  This could be a false alarm, with some parameters getting used by language bindings but\n",
      "  then being mistakenly passed down to XGBoost core, or some parameter actually being used\n",
      "  but getting flagged wrongly here. Please open an issue if you find any such cases.\n",
      "\n",
      "\n",
      "[19:07:21] WARNING: /Users/travis/build/dmlc/xgboost/src/learner.cc:1115: Starting in XGBoost 1.3.0, the default evaluation metric used with the objective 'binary:logistic' was changed from 'error' to 'logloss'. Explicitly set eval_metric if you'd like to restore the old behavior.\n",
      "[19:07:22] WARNING: /Users/travis/build/dmlc/xgboost/src/learner.cc:576: \n",
      "Parameters: { \"silent\" } might not be used.\n",
      "\n",
      "  This could be a false alarm, with some parameters getting used by language bindings but\n",
      "  then being mistakenly passed down to XGBoost core, or some parameter actually being used\n",
      "  but getting flagged wrongly here. Please open an issue if you find any such cases.\n",
      "\n",
      "\n",
      "[19:07:22] WARNING: /Users/travis/build/dmlc/xgboost/src/learner.cc:1115: Starting in XGBoost 1.3.0, the default evaluation metric used with the objective 'binary:logistic' was changed from 'error' to 'logloss'. Explicitly set eval_metric if you'd like to restore the old behavior.\n",
      "[19:07:22] WARNING: /Users/travis/build/dmlc/xgboost/src/learner.cc:576: \n",
      "Parameters: { \"silent\" } might not be used.\n",
      "\n",
      "  This could be a false alarm, with some parameters getting used by language bindings but\n",
      "  then being mistakenly passed down to XGBoost core, or some parameter actually being used\n",
      "  but getting flagged wrongly here. Please open an issue if you find any such cases.\n",
      "\n",
      "\n",
      "[19:07:22] WARNING: /Users/travis/build/dmlc/xgboost/src/learner.cc:1115: Starting in XGBoost 1.3.0, the default evaluation metric used with the objective 'binary:logistic' was changed from 'error' to 'logloss'. Explicitly set eval_metric if you'd like to restore the old behavior.\n",
      "[19:07:23] WARNING: /Users/travis/build/dmlc/xgboost/src/learner.cc:576: \n",
      "Parameters: { \"silent\" } might not be used.\n",
      "\n",
      "  This could be a false alarm, with some parameters getting used by language bindings but\n",
      "  then being mistakenly passed down to XGBoost core, or some parameter actually being used\n",
      "  but getting flagged wrongly here. Please open an issue if you find any such cases.\n",
      "\n",
      "\n",
      "[19:07:23] WARNING: /Users/travis/build/dmlc/xgboost/src/learner.cc:1115: Starting in XGBoost 1.3.0, the default evaluation metric used with the objective 'binary:logistic' was changed from 'error' to 'logloss'. Explicitly set eval_metric if you'd like to restore the old behavior.\n",
      "[19:07:23] WARNING: /Users/travis/build/dmlc/xgboost/src/learner.cc:576: \n",
      "Parameters: { \"silent\" } might not be used.\n",
      "\n",
      "  This could be a false alarm, with some parameters getting used by language bindings but\n",
      "  then being mistakenly passed down to XGBoost core, or some parameter actually being used\n",
      "  but getting flagged wrongly here. Please open an issue if you find any such cases.\n",
      "\n",
      "\n",
      "[19:07:23] WARNING: /Users/travis/build/dmlc/xgboost/src/learner.cc:1115: Starting in XGBoost 1.3.0, the default evaluation metric used with the objective 'binary:logistic' was changed from 'error' to 'logloss'. Explicitly set eval_metric if you'd like to restore the old behavior.\n"
     ]
    },
    {
     "data": {
      "image/png": "[encoded data removed]",
      "text/plain": [
       "<Figure size 432x288 with 1 Axes>"
      ]
     },
     "metadata": {
      "needs_background": "light"
     },
     "output_type": "display_data"
    },
    {
     "data": {
      "image/png": "[encoded data removed]",
      "text/plain": [
       "<Figure size 432x288 with 1 Axes>"
      ]
     },
     "metadata": {
      "needs_background": "light"
     },
     "output_type": "display_data"
    }
   ],
   "source": [
    "#### Get Calibration Curve #####\n",
    "kf = KFold(n_splits=5, shuffle=True, random_state=1234)\n",
    "xg_kfold_probability = []\n",
    "kfold_true_label = []\n",
    "\n",
    "# Calculate probabilities in each k-fold\n",
    "for train_index, validate_index in kf.split(df):\n",
    "    kfold_train, kfold_validate = df.iloc[train_index], df.iloc[validate_index]\n",
    "\n",
    "    train_features = kfold_train[FEATURE_COLS]\n",
    "    train_labels = kfold_train['legendary']\n",
    "    validate_features = kfold_validate[FEATURE_COLS]\n",
    "    validate_labels = kfold_validate['legendary']\n",
    "\n",
    "    # # Transform shot distance and angle net seen\n",
    "    # columns_to_transform = ['shot_distance', 'angle_net_seen']\n",
    "    # train_features = monotone_transform(train_features, columns_to_transform)\n",
    "    # validate_features = monotone_transform(validate_features, columns_to_transform)\n",
    "\n",
    "    model = mdl.fit(X=train_features, y=train_labels)\n",
    "    xg_kfold_probability.append(model.predict_proba(validate_features)[:, 1])\n",
    "    kfold_true_label.append(validate_labels)\n",
    "\n",
    "xg_kfold_probability_stacked = np.hstack(xg_kfold_probability)\n",
    "kfold_true_label_stacked = np.hstack(kfold_true_label)\n",
    "xg_y, xg_x = calibration_curve(kfold_true_label_stacked, xg_kfold_probability_stacked, n_bins=20)\n",
    "\n",
    "### Calibration curve plot #####\n",
    "plt.plot(xg_x, xg_y, marker='o', linewidth=3, label='Probability of Legendary')\n",
    "x = [0.1,0.2,0.3,0.4,0.5,0.6,0.7,0.8,0.9,1]\n",
    "y = [0.1,0.2,0.3,0.4,0.5,0.6,0.7,0.8,0.9,1]\n",
    "plt.plot(x, y, linewidth=2, label='Perfectly Calibrated')\n",
    "# Add title and axis names\n",
    "plt.title('Calibration Plot for Pokemon Model')\n",
    "plt.xlabel('Predicted Probability')\n",
    "plt.ylabel('True Probability')\n",
    "plt.legend(loc=\"upper left\")\n",
    "plt.show()\n",
    "\n",
    "# plot feature importance\n",
    "plot_importance(mdl)\n",
    "pyplot.show()"
   ]
  }
 ],
 "metadata": {
  "interpreter": {
   "hash": "1d2105856eb072f55c8950b91703cc0d49a3831bf0ebc9815bdf84c1eb331f5e"
  },
  "kernelspec": {
   "display_name": "Python 3.8.10 64-bit ('football': conda)",
   "name": "python3"
  },
  "language_info": {
   "codemirror_mode": {
    "name": "ipython",
    "version": 3
   },
   "file_extension": ".py",
   "mimetype": "text/x-python",
   "name": "python",
   "nbconvert_exporter": "python",
   "pygments_lexer": "ipython3",
   "version": "3.8.10"
  },
  "orig_nbformat": 4
 },
 "nbformat": 4,
 "nbformat_minor": 2
}
